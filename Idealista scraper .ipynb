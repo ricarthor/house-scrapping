{
 "cells": [
  {
   "cell_type": "code",
   "execution_count": 1,
   "metadata": {},
   "outputs": [],
   "source": [
    "import pandas as pd \n",
    "import numpy as np\n",
    "from bs4 import BeautifulSoup\n",
    "import requests"
   ]
  },
  {
   "cell_type": "code",
   "execution_count": null,
   "metadata": {},
   "outputs": [],
   "source": [
    "page = requests.get(\"https://www.idealista.pt/comprar-casas/lisboa/\")\n",
    "page"
   ]
  },
  {
   "cell_type": "code",
   "execution_count": null,
   "metadata": {},
   "outputs": [],
   "source": [
    "soup = BeautifulSoup(page.content, 'html.parser')"
   ]
  },
  {
   "cell_type": "code",
   "execution_count": null,
   "metadata": {},
   "outputs": [],
   "source": [
    "print(soup.prettify())"
   ]
  },
  {
   "cell_type": "code",
   "execution_count": null,
   "metadata": {},
   "outputs": [],
   "source": [
    "[type(item) for item in list(soup.children)][8]"
   ]
  },
  {
   "cell_type": "code",
   "execution_count": null,
   "metadata": {},
   "outputs": [],
   "source": [
    "html = list(soup.children)[8]"
   ]
  },
  {
   "cell_type": "code",
   "execution_count": null,
   "metadata": {},
   "outputs": [],
   "source": [
    "list(html.children)[2]"
   ]
  },
  {
   "cell_type": "code",
   "execution_count": null,
   "metadata": {},
   "outputs": [],
   "source": [
    "[text.get_text() for text in soup.find_all(class_='item-price')]"
   ]
  },
  {
   "cell_type": "code",
   "execution_count": null,
   "metadata": {},
   "outputs": [],
   "source": [
    "[text.get_text() for text in soup.find_all(class_='item-link')]"
   ]
  },
  {
   "cell_type": "code",
   "execution_count": null,
   "metadata": {},
   "outputs": [],
   "source": [
    "houses = [houses for houses in [text for text in soup.find_all(class_='item-info-container')]]"
   ]
  },
  {
   "cell_type": "code",
   "execution_count": null,
   "metadata": {},
   "outputs": [],
   "source": [
    "houses[0]"
   ]
  },
  {
   "cell_type": "code",
   "execution_count": null,
   "metadata": {},
   "outputs": [],
   "source": [
    "from selenium import webdriver\n",
    "import os"
   ]
  },
  {
   "cell_type": "code",
   "execution_count": null,
   "metadata": {},
   "outputs": [],
   "source": [
    "chromedriver = \"/Users/ricardopereira/Downloads/chromedriver\"\n",
    "os.environ[\"webdriver.chrome.driver\"] = chromedriver\n",
    "driver = webdriver.Chrome(chromedriver)"
   ]
  },
  {
   "cell_type": "code",
   "execution_count": null,
   "metadata": {},
   "outputs": [],
   "source": [
    "type(driver)"
   ]
  },
  {
   "cell_type": "code",
   "execution_count": null,
   "metadata": {},
   "outputs": [],
   "source": [
    "driver.get('http://inventwithpython.com/')"
   ]
  },
  {
   "cell_type": "code",
   "execution_count": null,
   "metadata": {},
   "outputs": [],
   "source": [
    "driver."
   ]
  },
  {
   "cell_type": "markdown",
   "metadata": {},
   "source": [
    "## Nuno's function"
   ]
  },
  {
   "cell_type": "code",
   "execution_count": null,
   "metadata": {},
   "outputs": [],
   "source": [
    "## Função obter links:\n",
    "def obtain_link():\n",
    "\n",
    "    import requests\n",
    "    from bs4 import BeautifulSoup\n",
    "    \n",
    "    page = requests.get(\"https://www.idealista.pt/comprar-casas/lisboa/com-apartamentos/\")\n",
    "    soup = BeautifulSoup(page.content, 'html.parser')\n",
    "    \n",
    "    link = []\n",
    "\n",
    "    for item in soup.find_all(class_=\"item-info-container\"):\n",
    "\n",
    "        try:\n",
    "            link.append('https://www.idealista.pt'+item.find(class_=\"item-link\")['href'])\n",
    "        except:\n",
    "            link.append('-')\n",
    "            \n",
    "    return link"
   ]
  },
  {
   "cell_type": "code",
   "execution_count": null,
   "metadata": {},
   "outputs": [],
   "source": [
    "links = obtain_link()"
   ]
  },
  {
   "cell_type": "code",
   "execution_count": null,
   "metadata": {},
   "outputs": [],
   "source": [
    "links"
   ]
  },
  {
   "cell_type": "code",
   "execution_count": 9,
   "metadata": {},
   "outputs": [],
   "source": [
    "all_links = [BeautifulSoup(requests.get(link).content, 'html.parser') for link in links]"
   ]
  },
  {
   "cell_type": "code",
   "execution_count": null,
   "metadata": {},
   "outputs": [],
   "source": [
    "list(all_links[0].children)[8].get_text()"
   ]
  },
  {
   "cell_type": "code",
   "execution_count": 25,
   "metadata": {},
   "outputs": [
    {
     "data": {
      "text/plain": [
       "<html data-userauth=\"false\" env=\"pt\" lang=\"pt\" username=\"\"><!--<![endif]--> <head> <meta content=\"IE=edge,chrome=1\" http-equiv=\"X-UA-Compatible\"> <title>Apartamento T2 à venda em São Vicente, Lisboa</title> <meta content=\"text/html; charset=utf-8\" http-equiv=\"Content-Type\"> <meta content=\"Apartamento T2 de 60 m², Apartamento T2 à venda em São Vicente, Lisboa, São Vicente\" name=\"description\"> <meta content=\"\" name=\"keywords\"> <meta content=\"idealista.com\" name=\"author\"> <meta content=\"on\" http-equiv=\"cleartype\"> <meta content=\"no-cache\" name=\"pragma\"/> <meta content=\"no-cache\" http-equiv=\"Pragma\"/> <meta content=\"Fri, 01 Jan 1990 00:00:00 GMT\" http-equiv=\"Expires\"/> <meta content=\"no-cache, no-store, must-revalidate\" http-equiv=\"Cache-Control\"/> <link href=\"/favicon.ico\" rel=\"shortcut icon\"> <link href=\"https://st1.idealista.pt/static/common/icons/60x60.png?20171123083742\" rel=\"apple-touch-icon\"> <link href=\"https://st1.idealista.pt/static/common/icons/60x60.png?20171123083742\" rel=\"apple-touch-icon-precomposed\"> <link href=\"https://st1.idealista.pt/static/common/icons/76x76.png?20171123083742\" rel=\"apple-touch-icon\" sizes=\"76x76\"> <link href=\"https://st1.idealista.pt/static/common/icons/76x76.png?20171123083742\" rel=\"apple-touch-icon-precomposed\" sizes=\"76x76\"> <link href=\"https://st1.idealista.pt/static/common/icons/120x120.png?20171123083742\" rel=\"apple-touch-icon\" sizes=\"120x120\"> <link href=\"https://st1.idealista.pt/static/common/icons/120x120.png?20171123083742\" rel=\"apple-touch-icon-precomposed\" sizes=\"120x120\"> <link href=\"https://st1.idealista.pt/static/common/icons/152x152.png?20171123083742\" rel=\"apple-touch-icon\" sizes=\"152x152\"> <link href=\"https://st1.idealista.pt/static/common/icons/152x152.png?20171123083742\" rel=\"apple-touch-icon-precomposed\" sizes=\"152x152\"> <meta content=\"app-id=465958311\" name=\"apple-itunes-app\"/> <meta content=\"app-id=com.idealista.android\" name=\"google-play-app\"/> <meta content=\"/download\" name=\"app-download-url\"/> <!--[if lte IE 8]><script src=\"https://st1.idealista.pt/static/common/release/modules/ie8.js?20171123083742\"></script><![endif]--> <!--[if lte IE 9]><script src=\"https://st1.idealista.pt/static/common/release/modules/ie9.js?20171123083742\"></script><![endif]--> <link href=\"https://st1.idealista.pt/static/common/release/detail/detail.css?20171123083742\" rel=\"stylesheet\" type=\"text/css\"/> <link href=\"https://www.idealista.pt/imovel/28312244/\" rel=\"canonical\"/> <meta content=\"NOODP,INDEX, FOLLOW\" name=\"ROBOTS\"/> <meta content=\"width=device-width, initial-scale=1.0, maximum-scale=2.0, minimum-scale=1.0\" name=\"viewport\"> <meta content=\"https://img3.idealista.pt/blur/WEB_DETAIL/0/id.pro.pt.image.master/21/ae/4a/70990126.jpg\" name=\"og:image\"> <meta content=\"1500\" name=\"og:image:width\"> <meta content=\"1125\" name=\"og:image:height\"> <link href=\"https://www.idealista.pt/en/imovel/28312244/\" hreflang=\"en\" rel=\"alternate\"/><link href=\"https://www.idealista.pt/fr/imovel/28312244/\" hreflang=\"fr\" rel=\"alternate\"/><link href=\"https://www.idealista.pt/de/imovel/28312244/\" hreflang=\"de\" rel=\"alternate\"/><link href=\"https://www.idealista.pt/it/imovel/28312244/\" hreflang=\"it\" rel=\"alternate\"/><link href=\"https://www.idealista.pt/es/imovel/28312244/\" hreflang=\"es\" rel=\"alternate\"/> </meta></meta></meta></meta></link></link></link></link></link></link></link></link></link></meta></meta></meta></meta></meta></meta></head> <body id=\"\"> <div id=\"header\"> <header class=\"clearfix \" id=\"main-header\"> <div class=\"content\"> <div class=\"logo-container\"> <a class=\"id-logo\" href=\"/\"> <span class=\"icon-idealista-icon id-brand\"></span></a> <span class=\"phrase\">A maneira certa de encontrar casa</span> </div> <nav> <ul id=\"no-login-user-bar\"> <li id=\"put-adv-free\"> <a class=\"icon-pin\" data-xiti-markup='{ \"click\": {\"xtPage\":\"header::new-advert\",\"xtn2\":\"226\",\"mustXtn2\":false,\"actionType\":\"CLICK\"} }' href=\"/info/novo-anuncio\"> <span>Inserir anúncio grátis</span> </a> </li> <li id=\"your-account\"> <a class=\"icon-user\" data-xiti-markup='{ \"click\": {\"xtPage\":\"header::login\",\"xtn2\":\"226\",\"mustXtn2\":false,\"actionType\":\"CLICK\"} }' href=\"/login\" rel=\"nofollow\"> <span>Acesso<span class=\"hide-txt\"> utilizadores</span></span> </a> </li> </ul> </nav> </div> </header> </div> <div id=\"wrapper\"> <div data-islogged=\"false\" id=\"main\"> <div class=\"container\"> <div class=\"clearfix\"> <div id=\"pager\"> <div class=\"back-to-listing\"> <a class=\"btn nav back icon-arrow-double-left\" href=\"/comprar-casas/lisboa/sao-vicente/\" title=\"Casas em São Vicente\"> <span class=\"hide-txt\"> Casas em São Vicente </span> </a> </div> <p class=\"pager-count\"> </p> <div class=\"prev-next\"> </div> </div> <section class=\"main-info\"> <h1 class=\"txt-bold \"><span class=\"txt-bold\">Apartamento T2 à venda em São Vicente, Lisboa</span></h1> <div class=\"info-data\"> <span><span class=\"txt-big txt-bold\">272.500</span> €</span> <span><span class=\"txt-big\">60</span> m² construídos</span> <span><span class=\"txt-big\">T2</span> </span> <span><span class=\"txt-big\">3º</span> <span>andar</span> </span> </div> <div class=\"info-tags\"> <span class=\"txt-mortgage icon-barchart\"> <span> <a data-xiti-click=\"detalle::calculate-mortgage-top\" href=\"/credito-habitacao/hipoteca-para-comprar-casa?adId=28312244&amp;xtatc=INT-8-[detalle_personalizar_hipoteca_consecutivo]\"><span>Calcular empréstimo</span></a></span> </span> <span class=\"txt-mortgage\"> <span class=\"applyMortgageContainer \"> <a class=\"icon-edit applyMortgage applyMortgage contact-uci\" data-button-xiti=\"detalle::conversiones::form-mortgages-top\" data-xiti-click=\"detalle::conversiones::form-mortgages-top\" data-xiti-shared-n2=\"true\" href=\"#\"><span>Solicitar crédito habitação</span></a> </span> <span class=\"contextual success icon-feedbk-ok applyMortgageDone d-none\">Pedido recebido</span> </span> </div> <div id=\"links\"> <a class=\"favorite-btn btn regular icon-fav\" data-role=\"add\" data-text-add='Guardar&lt;span class=\"hide-txt\"&gt; favorito&lt;/span&gt;' data-text-remove='Eliminar&lt;span class=\"hide-txt\"&gt; favorito&lt;/span&gt;' href=\"#\"> <span>Guardar<span class=\"hide-txt\"> favorito</span></span> </a> <a class=\"discard-btn icon-delete\" data-role=\"add\" data-text-add=\"Descartar\" data-text-remove='Recuperar&lt;span class=\"hide-txt\"&gt; excluido&lt;/span&gt;' href=\"#\"> <span>Descartar</span> </a> <div class=\"d-none\" id=\"comment-wrapper\"> <div class=\"text-wrapper\"> <textarea class=\"\" data-autoresize=\"\" data-chars-counter=\"\" id=\"comment-textarea\" maxlength=\"1000\" placeholder=\"Colocar uma nota pessoal (só tu a poderás ver)\" spellcheck=\"false\"></textarea> <p class=\"counter txt-small color-gray\" data-chars-counter-left=\"\"></p> </div> <div class=\"buttons\"> <a class=\"btn regular txt-bold\" href=\"#\" id=\"add-comment-btn\" title=\"guardar nota\">Guardar nota</a> <a href=\"#\" id=\"cancel-comment-btn\" title=\"cancelar\">Cancelar</a> </div> </div> </div> <div id=\"fixed-toolbar-reference\"></div> <div id=\"fixed-toolbar\"> <div class=\"content clearfix\"> <a class=\"btn nav back icon-arrow-double-left\" data-xiti-navigation=\"detalle::volver_listado_toolbar\" data-xiti-shared-n2=\"true\" href=\"/comprar-casas/lisboa/sao-vicente/\" title=\"Casas em São Vicente\"></a> <div class=\"main-info\"> <h2 class=\"txt-bold \"> <span class=\"txt-bold\">Apartamento T2 à venda em São Vicente, Lisboa</span> </h2> <div class=\"info-data\"> <span><span class=\"txt-big txt-bold\">272.500</span> €</span> <span><span class=\"txt-big\">60</span> m² construídos</span> <span><span class=\"txt-big\">T2</span> </span> <span><span class=\"txt-big\">3º</span> <span>andar</span> </span> </div> </div> <a class=\"contact-fake btn action txt-bold txt-big\" href=\"#\"> Contactar </a> <div class=\"links\"> <a class=\"favorite-btn btn regular icon-fav\" data-role=\"add\" data-text-add='Guardar&lt;span class=\"hide-txt\"&gt; favorito&lt;/span&gt;' data-text-remove='Eliminar&lt;span class=\"hide-txt\"&gt; favorito&lt;/span&gt;' data-xiti-click=\"detalle::favoritear_toolbar\" data-xiti-shared-n2=\"true\" href=\"#\"> <span>Guardar<span class=\"hide-txt\"> favorito</span></span> </a> <a class=\"discard-btn icon-delete\" data-role=\"add\" data-text-add=\"Descartar\" data-text-remove='Recuperar&lt;span class=\"hide-txt\"&gt; excluido&lt;/span&gt;' data-xiti-click=\"detalle::descartar_toolbar\" data-xiti-shared-n2=\"true\" href=\"#\"> <span>Descartar</span> </a> </div> </div> </div> </section> <div id=\"main-content\"> <div id=\"multimedia-container\"> <div id=\"main-multimedia\"> <div class=\"placeholder-multimedia\"> <div class=\"vrs3D-container\"> <div class=\"vrs-header icon-3d-tour\"><span>Visita 3D</span></div> <div id=\"pmvr3D\"> <iframe allowfullscreen=\"true\" frameborder=\"0\" height=\"100%\" seamless=\"true\" src=\"https://my.matterport.com/show/?m=rtuzwdgUfX8\" width=\"100%\"></iframe> </div> </div> </div> <div class=\"placeholder-multimedia image horizontal printable\"> <img alt=\"Imagem de apartamento t2 em São Vicente, Lisboa\" data-ondemand-img=\"\" data-orientation=\"horizontal\" data-relative-position=\"0\" data-service=\"https://img3.idealista.pt/blur/WEB_DETAIL/0/id.pro.pt.image.master/21/ae/4a/70990126.jpg,WEB_DETAIL\" data-xiti-page=\"detalle::foto\" data-xiti-shared-n2=\"true\" position=\"0\" src=\"https://st1.idealista.pt/static/common/img/icons/px.png\" title=\"Imagem de apartamento t2 em São Vicente, Lisboa\"/> </div> <div class=\"placeholder-multimedia image horizontal printable\"> <img alt=\"Imagem de apartamento t2 em São Vicente, Lisboa\" data-ondemand-img=\"\" data-orientation=\"horizontal\" data-relative-position=\"1\" data-service=\"https://img3.idealista.pt/blur/WEB_DETAIL/0/id.pro.pt.image.master/d4/96/51/70990127.jpg,WEB_DETAIL\" data-xiti-page=\"detalle::foto\" data-xiti-shared-n2=\"true\" position=\"1\" src=\"https://st1.idealista.pt/static/common/img/icons/px.png\" title=\"Imagem de apartamento t2 em São Vicente, Lisboa\"/> </div> <div class=\"placeholder-multimedia image horizontal printable\"> <img alt=\"Imagem de apartamento t2 em São Vicente, Lisboa\" data-ondemand-img=\"\" data-orientation=\"horizontal\" data-relative-position=\"2\" data-service=\"https://img3.idealista.pt/blur/WEB_DETAIL/0/id.pro.pt.image.master/06/2e/11/70990128.jpg,WEB_DETAIL\" data-xiti-page=\"detalle::foto\" data-xiti-shared-n2=\"true\" position=\"2\" src=\"https://st1.idealista.pt/static/common/img/icons/px.png\" title=\"Imagem de apartamento t2 em São Vicente, Lisboa\"/> </div> <div class=\"placeholder-multimedia image horizontal \"> <img alt=\"Imagem de apartamento t2 em São Vicente, Lisboa\" data-ondemand-img=\"\" data-orientation=\"horizontal\" data-relative-position=\"3\" data-service=\"https://img3.idealista.pt/blur/WEB_DETAIL/0/id.pro.pt.image.master/2c/d5/71/70990129.jpg,WEB_DETAIL\" data-xiti-page=\"detalle::foto\" data-xiti-shared-n2=\"true\" position=\"3\" src=\"https://st1.idealista.pt/static/common/img/icons/px.png\" title=\"Imagem de apartamento t2 em São Vicente, Lisboa\"/> </div> <div class=\"placeholder-multimedia image horizontal \"> <img alt=\"Imagem de apartamento t2 em São Vicente, Lisboa\" data-ondemand-img=\"\" data-orientation=\"horizontal\" data-relative-position=\"4\" data-service=\"https://img3.idealista.pt/blur/WEB_DETAIL/0/id.pro.pt.image.master/8d/58/47/70990130.jpg,WEB_DETAIL\" data-xiti-page=\"detalle::foto\" data-xiti-shared-n2=\"true\" position=\"4\" src=\"https://st1.idealista.pt/static/common/img/icons/px.png\" title=\"Imagem de apartamento t2 em São Vicente, Lisboa\"/> </div> </div> <div id=\"multimedia-mode-buttons\"> <span>Ver fotos em modo:</span> <ul class=\"segmented-btn-group clearfix\"> <li> <span class=\"btn regular smaller selected icon-mosaic-layout\" data-xiti-click=\"detalle::viewphotos::mosaic\" id=\"grid-multimedia-view-button\"> Mosaico </span> </li> <li> <span class=\"btn regular smaller icon-large-layout\" data-xiti-click=\"detalle::viewphotos::large\" id=\"large-multimedia-view-button\"> Grande </span> </li> </ul> </div> <div class=\"grid clearfix\" data-columns=\"\" id=\"grid-multimedia\"> <div class=\"placeholder-multimedia image horizontal \"> <img alt=\"Imagem de apartamento t2 em São Vicente, Lisboa\" data-ondemand-img=\"\" data-orientation=\"horizontal\" data-relative-position=\"5\" data-service=\"https://img3.idealista.pt/blur/WEB_DETAIL/0/id.pro.pt.image.master/d0/ec/be/70990131.jpg,WEB_DETAIL\" data-xiti-page=\"detalle::foto\" data-xiti-shared-n2=\"true\" position=\"5\" src=\"https://st1.idealista.pt/static/common/img/icons/px.png\" title=\"Imagem de apartamento t2 em São Vicente, Lisboa\"/> </div> <div class=\"placeholder-multimedia image horizontal \"> <img alt=\"Imagem de apartamento t2 em São Vicente, Lisboa\" data-ondemand-img=\"\" data-orientation=\"horizontal\" data-relative-position=\"6\" data-service=\"https://img3.idealista.pt/blur/WEB_DETAIL/0/id.pro.pt.image.master/81/36/e8/70990132.jpg,WEB_DETAIL\" data-xiti-page=\"detalle::foto\" data-xiti-shared-n2=\"true\" position=\"6\" src=\"https://st1.idealista.pt/static/common/img/icons/px.png\" title=\"Imagem de apartamento t2 em São Vicente, Lisboa\"/> </div> <div class=\"placeholder-multimedia image horizontal \"> <img alt=\"Imagem de apartamento t2 em São Vicente, Lisboa\" data-ondemand-img=\"\" data-orientation=\"horizontal\" data-relative-position=\"7\" data-service=\"https://img3.idealista.pt/blur/WEB_DETAIL/0/id.pro.pt.image.master/b8/18/e3/70990133.jpg,WEB_DETAIL\" data-xiti-page=\"detalle::foto\" data-xiti-shared-n2=\"true\" position=\"7\" src=\"https://st1.idealista.pt/static/common/img/icons/px.png\" title=\"Imagem de apartamento t2 em São Vicente, Lisboa\"/> </div> <div class=\"placeholder-multimedia image horizontal \"> <img alt=\"Imagem de apartamento t2 em São Vicente, Lisboa\" data-ondemand-img=\"\" data-orientation=\"horizontal\" data-relative-position=\"8\" data-service=\"https://img3.idealista.pt/blur/WEB_DETAIL/0/id.pro.pt.image.master/b5/ef/d3/70990134.jpg,WEB_DETAIL\" data-xiti-page=\"detalle::foto\" data-xiti-shared-n2=\"true\" position=\"8\" src=\"https://st1.idealista.pt/static/common/img/icons/px.png\" title=\"Imagem de apartamento t2 em São Vicente, Lisboa\"/> </div> </div> </div> <section id=\"details\"> <div class=\"commentsContainer\" data-url=\"/ajax/comment.ajax\"> <h2 class=\"txt-medium txt-bold\">Comentário do anunciante</h2> <span class=\"adCommentLangSelector\"> Disponível em: <a class=\"current\" data-lang=\"pt\" href=\"#\">Português</a> <a data-lang=\"en\" href=\"#\">English</a> <a data-lang=\"fr\" href=\"#\">Français</a> <a data-lang=\"de\" href=\"#\">Deutsch</a> <a data-lang=\"it\" href=\"#\">Italiano</a> <a data-lang=\"es\" href=\"#\">Español</a> <a data-lang=\"ru\" href=\"#\">русский</a> <a data-lang=\"ch\" href=\"#\">华语</a> </span> <div class=\"comment\"> <div class=\"adCommentsLanguage expandable\" data-compressed-max-length=\"1650\"> \"Muito bom apartamento T2 em edifício tranquilo, perto de lojas e transportes, metro, 3º e último andar sem elevador, bela vista para o Tejo, cozinha totalmente equipada, sala, 2 quartos, 1 casa de banho, possibilidade de alugar uma garagem a 50 metros a 100 € / mês, apartamento com ar condicionadoideal para investimento aluguer.\" </div> </div> </div> <div class=\"details-block clearfix\"> <h2 class=\"txt-medium txt-bold\">Preço</h2> <div> <div> <p class=\"price\">272.500 euros</p> <p class=\"\">4.542 eur/m²</p> <p class=\"\"> <a class=\"counter-offer\" data-xiti-page=\"detalle::conversiones::form_contraoferta\" data-xiti-shared-n2=\"true\" href=\"#\" title=\"Fazer uma contraproposta\"> Fazer uma contraproposta </a> </p> <a class=\"favorite-btn\" data-role=\"add\" data-targetid=\"13\" data-text-add=\"Receber alerta se descer de preço\" data-text-remove=\"Recebido! Avisamos-te se baixar de preço\" data-xiti-click=\"detalle::conversiones::avisame_si_baja\" data-xiti-shared-n2=\"true\" href=\"#\" id=\"alert-price-down-btn\" title=\"Quanto pagarias por este este imóvel? Avisamos-te por email, se descer de preço\">Receber alerta se descer de preço</a> </div> </div> <div class=\"highlight-box price-highlight-box\"> <div> <h4>Queres saber se está caro ou barato?</h4> <p>Informa-te antes de negociar</p> <p> <a class=\"\" data-xiti-navigation=\"detalle::link::product-1202\" data-xiti-shared-n2=\"true\" href=\"/flow/estimativa-de-preco?adId=28312244&amp;lang=pt\">Comprar estimativa de preço</a> </p> </div> </div> </div> <div class=\"details-block clearfix\"> <h2> <span class=\"icon-idealista-icon\"></span> <span class=\"icon-hipotecas\"></span> <span class=\"h2-txt-mortgages\">Créditos habitação</span> </h2> <p class=\"smooth-text\">Ajudamos-te a conseguir o melhor crédito habitação.</p> <div> <div> <p>Possível mensalidade do crédito</p> <p class=\"price\">718 eur/mês</p> <p> <a class=\"\" data-xiti-click=\"detalle::calculate-mortgage-bottom\" href=\"/credito-habitacao/hipoteca-para-comprar-casa?adId=28312244&amp;xtatc=INT-8-[detalle_personalizar_hipoteca_consecutivo]\">Calcular empréstimo</a> </p> </div> </div> <div class=\"highlight-box mortgages-highlight-box\"> <div> <h4>Vão-te conceder o empréstimo?</h4> <p> <a class=\"applyMortgage contact-uci\" data-button-xiti=\"detalle::conversiones::form-mortgages-bottom::continue\" data-xiti-click=\"detalle::conversiones::form-mortgages-bottom\" data-xiti-shared-n2=\"true\" href=\"#\">Solicitar crédito à habitação</a> </p> </div> </div> </div> <div> <h2 class=\"txt-medium txt-bold\">Características específicas</h2> <ul> <li> 60 m² construídos </li> <li> T2 </li> <li> 1 casa de banho </li> <li> Terraço </li> <li> Segunda mão/bom estado </li> <li> Certificação energética: </li> <input name=\"typology\" type=\"hidden\" value=\"\"> </input></ul> </div> <div> <h2 class=\"txt-medium txt-bold\">Prédio</h2> <ul> <li> 3º andar </li> <input name=\"typology\" type=\"hidden\" value=\"\"> </input></ul> </div> </section> <a id=\"statsPosition\" name=\"statsPosition\"></a> <div id=\"mapWrapper\"> <div class=\"clearfix\" id=\"headerMap\"> <div id=\"addressPromo\"> <h2 class=\"txt-medium txt-bold\">Localização</h2> <ul> <li></li> <li> São Vicente </li> <li> Lisboa </li> </ul> </div> </div> <div id=\"map\"></div> <div id=\"static-map-container\"> <div class=\"contextual full-width warning icon-feedbk-alert\">O anunciante prefere não mostrar o endereço exato, mas é mais ou menos por aqui...</div> <div id=\"static-map\"><a class=\"showMap\" data-xiti-markup='{\"click\": {\"xtPage\":\"detalle::map::photo\",\"mustXtn2\":false,\"actionType\":\"PAGE\"} }' href=\"#\"></a></div> <div id=\"static-map-text-link\"><a class=\"showMap icon-search\" data-xiti-markup='{\"click\": {\"xtPage\":\"detalle::map::link\",\"mustXtn2\":false,\"actionType\":\"PAGE\"} }' href=\"#\"><span>Ampliar mapa</span></a></div> </div> </div> <section id=\"aditional-link\"> </section> <section id=\"stats\"> <h2 class=\"txt-medium txt-bold\">Estatísticas</h2> <p>Anúncio atualizado no dia 21 de Novembro</p> <a href=\"#\">Ver o número de visitas e contactos deste anúncio</a> <div id=\"stop-fixed-contact-scroll\"></div> </section> </div> <div id=\"side-content\"> <section class=\"highlight-content module-contact modal-contact-grey\" contact-modal-type=\"detail\"> <p class=\"ask-title txt-big\"><strong>Pergunta ao anunciante</strong></p> <div class=\"advertiser-info\"> <p class=\"advertiser-name\"> IAD PORTUGAL </p> <div class=\"shortAdDescription\"> <p class=\"ellipsis\">Apartamento T2 à venda em São Vicente, Lisboa</p> </div> </div> <div class=\"modal-inner\"> <form action=\"\" class=\"form contact\" data-service-error=\"Lamentamos! Não conseguimos enviar a tua mensagem. Tenta novamente!\" novalidate=\"\"> <div class=\"item-form no-margin\"> <label> <span class=\"contacted \"> <p class=\"contacted \"> <span class=\"icon-mail\">Contatado <span class=\"contacted-time\"> a </span> </span> </p> <span class=\"onlyFakeContact\">- </span> <span class=\"yourMessage\">Mensagem que enviaste</span> </span> <textarea data-message-required=\"Mostra o teu interesse escrevendo uma mensagem\" name=\"contact-message\" placeholder=\"Tens alguma dúvida? Queres visitar o imóvel? Pergunta ao anunciante!\">Olá, tenho interesse neste apartamento e gostava de visitá-lo.\n",
       "Cumprimentos</textarea> </label> <ul class=\"last-contact-messages\"></ul> </div> <div class=\"collapsed-form\"> <div class=\"item-form\"> <label> <span>O teu email</span> <input autocomplete=\"email\" class=\"js-email-field\" data-contact-data-error=\"Indica um e-mail ou telefone para que te possam responder ;-)\" data-message-email=\"Confirma o formato do teu email.\" data-required-group=\"contact-data\" data-validation=\"email\" name=\"contact-email\" type=\"email\" value=\"\"> </input></label> </div> <div class=\"item-form half-items clearfix\"> <div> <label> <span>O teu telefone</span> <input autocomplete=\"tel\" data-message-phone=\"Confirma o teu telefone.\" data-required-group=\"contact-data\" data-validation=\"phone\" name=\"contact-phone\" type=\"tel\" value=\"\"> </input></label> </div> <div> <label> <span>O teu nome</span> <input autocomplete=\"name\" data-message-name=\"Isto não parece ser um nome\" data-message-required=\"Indica o teu nome \" data-validation=\"name\" name=\"contact-name\" type=\"text\" value=\"\"> </input></label> </div> </div> <span class=\"general-errors-container feedback contextual full-width warning icon-feedbk-alert d-none\"></span> <span class=\"service-error-container feedback contextual full-width error icon-feedbk-ko d-none\"></span> <div class=\"captcha-miniFields d-none\" data-service-prefix=\"\"> <div class=\"captcha\"> <div class=\"captcha-img\"> </div> </div> <label> <span>Escreve os números e as letras que vês em cima</span> <input autocapitalize=\"none\" autocorrect=\"off\" class=\"_captcha\" name=\"contact-captcha\" type=\"text\"/> </label> <p><a class=\"captcha-reload\" href=\"#\">Não consegues perceber?</a></p> </div> <div class=\"item-form privacy-policy-container\" id=\"privacy-policy-detail\"> <label class=\"input-checkbox\" data-message-checkbox=\"Para contactar deves aceitar a política de privacidade\" data-validation=\"checkbox\"> <input name=\"privacy-policy-checkbox\" type=\"checkbox\"/> <span><span> Aceitar <a href=\"/info/protecao-dados\" target=\"_blank\">política de privacidade</a> </span></span> </label> </div> <input name=\"adId\" type=\"hidden\" value=\"28312244\"/> <input name=\"operationId\" type=\"hidden\" value=\"1\"/> <input id=\"contact-type\" name=\"type\" type=\"hidden\" value=\"2\"/> </div> <div class=\"d-none\"> <input name=\"contact-mail\" type=\"text\" value=\"\"> </input></div> <div> <input class=\"btn action txt-bold txt-big\" data-contacted=\"Contactar novamente\" type=\"submit\" value=\"Contactar\"/> </div> </form> </div> <div class=\"feedback-container d-none\"></div> <div class=\"advertiser-data txt-soft\"> <div class=\"contact-phones\"> <div class=\"phone first-phone\"> <p class=\"txt-bold _browserPhone icon-phone\"> 225558678 </p> </div> </div> <p class=\"professional-name\"> Profissional - IAD PORTUGAL </p> <p> Ref.: 8012 </p> <div class=\"about-advertiser\"> <div class=\"advertiser-logo\"> <a href=\"/pro/iad-portugal/\"> <img alt=\"IAD Portugal\" data-ondemand-img=\"https://st3.idealista.pt/33/4a/f1/iad-portugal.gif\" height=\"60\" src=\"https://st1.idealista.pt/static/common/img/icons/px.png\" width=\"125\"/> </a> </div> </div> <div class=\"advertiser-name-container\"> <a class=\"about-advertiser-name\" href=\"/pro/iad-portugal/\" title=\"IAD Portugal\"> IAD Portugal </a> <p class=\"advertiser-name-location\">Maia</p> </div> </div> </section> <aside id=\"aside\"> <div id=\"helpToImprove\"> <h3 class=\"txt-bold txt-soft\">Ajuda-nos a melhorar</h3> <p> <a data-title=\"Diz-nos qual foi o erro que viste\" data-xiti-page=\"detalle::conversiones::form-reportar-error\" data-xiti-shared-n2=\"true\" href=\"#\" id=\"reportIncidence\">Vês algum erro? </a> </p> </div> <div id=\"aside-share-links\"> <h3 class=\"txt-bold txt-soft\">Partilhar anúncio 28312244</h3> <ul> <li class=\"share-link-container\"> <input class=\"false-readonly small\" id=\"clipboard-txt\" name=\"clipboard-txt\" readonly=\"\" type=\"text\" value=\"www.idealista.pt/28312244\"/> </li> <li class=\"share-link-container mobile\"> <a href=\"http://www.idealista.pt/28312244\" id=\"share-link\">www.idealista.pt/28312244</a> </li> <li> <a class=\"icon-share\" data-xiti-click=\"detalle::compartir::email\" data-xiti-page=\"detalle::conversiones::form_compartir\" data-xiti-shared-n2=\"true\" href=\"#\" id=\"share-friend-link\"> <span>Enviar a um amigo</span> </a> </li> </ul> </div> </aside> </div> </div> </div> </div> </div> <section class=\"links-block clearfix\" id=\"site-links-2\"> <div class=\"content\"> <div> <h3 class=\"txt-bold\">Procuras imóvel</h3> <ul> <li> <a href=\"/\" title=\"Motor de pesquisa principal\"> Motor de pesquisa principal </a> </li> <li> <a href=\"/apartamentos-para-arrendar\" title=\"Casas e apartamentos para arrendamento\"> Casas e apartamentos para arrendamento </a> </li> <li> <a href=\"/apartamentos-para-dividir\" title=\"Apartamentos partilhados\"> Apartamentos partilhados </a> </li> <li> <a href=\"https://pt.rentalia.com\" title=\"Rentalia, arrendamento para férias\"> Rentalia, arrendamento para férias </a> </li> <li> <a href=\"/credito-habitacao\" title=\"idealista/crédito habitação\"> idealista/crédito habitação </a> </li> <li> <a href=\"/flow/estimativa-de-preco\" title=\"Estimar preço do imóvel\"> Estimar preço do imóvel </a> </li> </ul> </div> <div> <h3 class=\"txt-bold\">És um anunciante particular</h3> <ul> <li> <a href=\"/info/novo-anuncio\" title=\"Inserir anúncio grátis\"> Inserir anúncio grátis </a> </li> <li> <a href=\"/particulares\" title=\"Serviços para anunciantes particulares\"> Serviços para anunciantes particulares </a> </li> <li> <a href=\"/info/truques-fazer-fotos-e-videos\" title=\"Melhorar as fotos do teu anúncio\"> Melhorar as fotos do teu anúncio </a> </li> <li> <a href=\"https://www.idealista.pt/labs/cartel-anuncio-piso.htm\" title=\"Imprimir cartazes do teu anúncio\"> Imprimir cartazes do teu anúncio </a> </li> </ul> </div> <div> <h3 class=\"txt-bold\">És um profissional do ramo imobiliário</h3> <ul> <li> <a href=\"/novo-profissional\" title=\"Publica os teus imóveis profissionais\"> Publica os teus imóveis profissionais </a> </li> <li> <a href=\"/login\" title=\"Já és cliente? Entra na tua conta\"> Já és cliente? Entra na tua conta </a> </li> <li> <a href=\"/info/publicidad\" title=\"Publicidade no idealista\"> Publicidade no idealista </a> </li> </ul> </div> <div> <h3 class=\"txt-bold\">Também...</h3> <ul> <li> <a href=\"https://www.idealista.pt/news/\" title=\"idealista/news\"> idealista/news </a> </li> <li> <a href=\"https://www.idealista.pt/labs/\" title=\"labs\"> labs </a> </li> </ul> </div> </div> </section> <footer> <div class=\"content\"> <h4>idealista <span id=\"copyright\"> Copyright © 2000-2017 </span></h4> <div> <ul class=\"list-horizontal list-separator clearfix\"> <li> <a href=\"/info/faqs\" rel=\"nofollow\" title=\"Ajuda (FAQs)\">Ajuda (FAQs)</a> </li> <li> <a href=\"/info/contacta-connosco\" rel=\"nofollow\" title=\"Contacta\">Contacta</a> </li> <li> <a href=\"/info/sobre-idealista\" rel=\"nofollow\" title=\"Quem somos\">Quem somos</a> </li> <li> <a href=\"/info/trabalha-connosco\" rel=\"nofollow\" title=\"Emprego\">Emprego</a> </li> <li> <a href=\"/info/protecao-dados\" rel=\"nofollow\" title=\"Privacidade\">Privacidade</a> </li> <li> <a href=\"/info/aviso-legal\" rel=\"nofollow\" title=\"Política de cookies\">Política de cookies</a> </li> <li> <a href=\"/info/aviso-legal\" rel=\"nofollow\" title=\"Condições gerais\">Condições gerais</a> </li> </ul> </div> <div class=\"clearfix\" id=\"languages\"> <h4>Outros idiomas</h4> <div class=\"clearfix\"> <ul class=\"list-horizontal list-separator\"> <li> Português </li> <li> <a href=\"/en/imovel/28312244/\" rel=\"nofollow\"> English</a> </li> <li> <a href=\"/fr/imovel/28312244/\" rel=\"nofollow\"> Français</a> </li> <li> <a href=\"/de/imovel/28312244/\" rel=\"nofollow\"> Deutsch</a> </li> <li> <a href=\"/it/imovel/28312244/\" rel=\"nofollow\"> Italiano</a> </li> <li> <a href=\"/es/imovel/28312244/\" rel=\"nofollow\"> Español</a> </li> </ul> <p class=\"and-also\">E também...</p> <ul class=\"list-horizontal list-separator\"> <li><a href=\"https://www.idealista.com\" rel=\"nofollow\" title=\"idealista Espanha\">idealista Espanha</a></li> <li><a href=\"https://www.idealista.it\" rel=\"nofollow\" title=\"idealista Itália\">idealista Itália</a></li> </ul> </div> </div> <div class=\"clearfix\" id=\"app-social\"> <div> <h4>Por telemóvel ou Tablet</h4> <p> <a class=\"footer-icon icon-ios app-icon\" href=\"https://itunes.apple.com/pt/app/idealista.com/id465958311?mt=8\" title=\"App Store\"><span>App Store</span></a> <a class=\"footer-icon icon-android app-icon\" href=\"https://play.google.com/store/apps/details?id=com.idealista.android\" title=\"Google Play\"><span>Google Play</span></a> </p> </div> <div> <h4>Segue-nos no</h4> <p> <a class=\"footer-icon icon-facebook\" href=\"https://www.facebook.com/idealista.pt\" title=\"Segue-nos no facebook\"><span>Segue-nos no facebook</span></a> <a class=\"footer-icon icon-twitter\" href=\"https://twitter.com/idealista_pt\" title=\"Notícias imobiliárias no twitter\"><span>Notícias imobiliárias no twitter</span></a> <a class=\"footer-icon icon-youtube\" href=\"https://www.youtube.com/user/idealistapt\" title=\"Notícias imobiliárias no youtube\"><span>Notícias imobiliárias no youtube</span></a> <a class=\"footer-icon icon-instagram\" href=\"https://instagram.com/idealistapt\" title=\"Segue-nos no instagram\"><span>Segue-nos no instagram</span></a> </p> </div> </div> </div> </footer> <script>\n",
       "var smartBannerConfig={locale:\"pt\",userAuthenticated:false,urls:{urlLegalNotice:\"/info/aviso-legal\"}};\n",
       "</script> <script type=\"text/javascript\">\n",
       "var communicatorConfig={enabled:true,endPointURL:\"//commt.idealista.pt\",authCookieName:\"cc\",refreshTokenURL:\"/communicator/refresh-token.ajax\"};\n",
       "</script> <script>\n",
       "var config={locale:\"pt\",userAuthenticated:false,propertyId:28312244,favoriteFirstTime:true,discardFirstTime:true,urlAddFavorite:\"/add-favorite.htm\",addFavoriteTargetId:\"32\",urlRemoveFavorite:\"/remove-favorite.htm\",urlAddDiscarded:\"/add-ruled-out-detail.htm\",urlRemoveDiscarded:\"/remove-ruled-out.htm\",urlAddComment:\"/update-favorite-comment.htm\",urlContact:\"/ajax/contact/2/sendcontact.ajax\",urlCounterOffer:\"/ajax/contact/suggested/4/sendcontact.ajax\",urlSuggestedAgencies:\"/ajax/zoneexperts/suggested/2/sendcontact.ajax\",urlReloadCaptcha:\"/ajax/captcha/reloadCaptcha.ajax\",urlVirtualTour:\"\",urlAlertSummary:\"/ajax/alertsummary.ajax/25\",mediaTablet:\"screen and (max-device-width: 1023px) and (min-device-width: 767px), screen and (max-width: 1023px) and (min-width: 767px)\",mediaMobile:\"screen and (max-width: 767px)\",mediaDesktop:\"screen and (min-width: 1024px) and (min-device-width: 1024px)\",mortgagesMinSavingsToContact:7,showLightboxPosition:null,showLightboxVirtualTour:false,detailUrl:\"/imovel/28312244/\",imageSizes:{\"1280X400\":80,\"140X105\":80,\"140\":80,\"300\":85,\"600\":80,\"850\":80,\"1500\":80,\"250X188\":80,\"500X375\":80,\"300X225\":80,\"600X450\":80},maxAdContactMessagesSuggested:3,openContactModal:false,showAdIncidenceForm:false,urlContactMortgages:\"/ajax/contact-mortgages.ajax?xtatc=[detalle_solicitar_hipoteca]\",xitiClientMarkup:{detailFavoritesLoginInPlace:\"detalle::conversiones::login-favoritear-inplace\",detailRuledOutLoginInPlace:\"detalle::conversiones::login-descartar-inplace\",detailIncidenceSendForm:\"detalle::conversiones::form-reportar-error\",detailContactForm:\"detalle::conversiones::form_contacto\"},contactInGalleryLightboxTitle:\"Contactar\",contactInGalleryFormTitle:\"Gostaste?\",urlCreateUserAskingStats:\"/new-user-asking-stats.ajax\",showMorePhotos:{markup:'{\"xtPage\":\"detalle::seemorephotos\",\"mustXtn2\":false,\"actionType\":\"CLICK\"}',desktop:{position:40,threshold:45,},mobile:{position:20,threshold:25,}},phoneIntlConfig:{initialCountry:\"pt\",preferredCountries:[\"gb\",\"fr\",\"ch\",\"br\",\"ao\"],allCountries:[[\"Alemanha\",\"de\",\"49\"],[\"Angola\",\"ao\",\"244\"],[\"Áustria\",\"at\",\"43\"],[\"Bélgica\",\"be\",\"32\"],[\"Brasil\",\"br\",\"55\"],[\"Bulgária\",\"bg\",\"359\"],[\"China\",\"cn\",\"86\"],[\"Chipre\",\"cy\",\"357\"],[\"Croácia\",\"hr\",\"385\"],[\"Eslováquia\",\"sk\",\"421\"],[\"Eslovênia\",\"si\",\"386\"],[\"Espanha\",\"es\",\"34\"],[\"Estados Unidos\",\"us\",\"1\"],[\"Estônia\",\"ee\",\"372\"],[\"Finlândia\",\"fi\",\"358\"],[\"França\",\"fr\",\"33\"],[\"Grécia\",\"gr\",\"30\"],[\"Hungria\",\"hu\",\"36\"],[\"Irlanda\",\"ie\",\"353\"],[\"Itália\",\"it\",\"39\"],[\"Letônia\",\"lv\",\"371\"],[\"Lituânia\",\"lt\",\"370\"],[\"Luxemburgo\",\"lu\",\"352\"],[\"Malta\",\"mt\",\"356\"],[\"Países Baixos\",\"nl\",\"31\"],[\"Polônia\",\"pl\",\"48\"],[\"Portugal\",\"pt\",\"351\"],[\"Reino Unido\",\"gb\",\"44\"],[\"República Checa\",\"cz\",\"420\"],[\"Roménia\",\"ro\",\"40\"],[\"Rússia\",\"ru\",\"7\"],[\"Suécia\",\"se\",\"46\"],[\"Suíça\",\"ch\",\"41\"],[\"Outros\",\"ot\",\"0\"]]},urlCalculateUCISavings:\"/ajax/mortgages/calculatesavingsform.ajax\"};var microsoft_key=\"\";var mapConfig={latitude:\"38.721048\",longitude:\"-9.1241941\",onMapElements:false,markerType:null,markerVisible:3,i18nDetail:\"\",versionId:\"3.22\",language:\"pt\",clientId:\"gme-idealistalibertad1\",dataProvider:\"googlev3\",channel:\"map_detail\"};var adMultimediasInfo={multimediaInfo:[{tag:\"Foto\",multimediaId:70990126,title:\"Imagem de apartamento t2 em São Vicente, Lisboa\",shortImageUrl:false,aspectRatioId:1,absolutePosition:1,imageUrl:\"/imovel/28312244/foto/1/\",imageDataService:\"https://img3.idealista.pt/blur/WEB_DETAIL/0/id.pro.pt.image.master/21/ae/4a/70990126.jpg,WEB_DETAIL\"},{tag:\"Foto\",multimediaId:70990127,title:\"Imagem de apartamento t2 em São Vicente, Lisboa\",shortImageUrl:false,aspectRatioId:1,absolutePosition:2,imageUrl:\"/imovel/28312244/foto/2/\",imageDataService:\"https://img3.idealista.pt/blur/WEB_DETAIL/0/id.pro.pt.image.master/d4/96/51/70990127.jpg,WEB_DETAIL\"},{tag:\"Foto\",multimediaId:70990128,title:\"Imagem de apartamento t2 em São Vicente, Lisboa\",shortImageUrl:false,aspectRatioId:1,absolutePosition:3,imageUrl:\"/imovel/28312244/foto/3/\",imageDataService:\"https://img3.idealista.pt/blur/WEB_DETAIL/0/id.pro.pt.image.master/06/2e/11/70990128.jpg,WEB_DETAIL\"},{tag:\"Foto\",multimediaId:70990129,title:\"Imagem de apartamento t2 em São Vicente, Lisboa\",shortImageUrl:false,aspectRatioId:1,absolutePosition:4,imageUrl:\"/imovel/28312244/foto/4/\",imageDataService:\"https://img3.idealista.pt/blur/WEB_DETAIL/0/id.pro.pt.image.master/2c/d5/71/70990129.jpg,WEB_DETAIL\"},{tag:\"Foto\",multimediaId:70990130,title:\"Imagem de apartamento t2 em São Vicente, Lisboa\",shortImageUrl:false,aspectRatioId:1,absolutePosition:5,imageUrl:\"/imovel/28312244/foto/5/\",imageDataService:\"https://img3.idealista.pt/blur/WEB_DETAIL/0/id.pro.pt.image.master/8d/58/47/70990130.jpg,WEB_DETAIL\"},{tag:\"Foto\",multimediaId:70990131,title:\"Imagem de apartamento t2 em São Vicente, Lisboa\",shortImageUrl:false,aspectRatioId:1,absolutePosition:6,imageUrl:\"/imovel/28312244/foto/6/\",imageDataService:\"https://img3.idealista.pt/blur/WEB_DETAIL/0/id.pro.pt.image.master/d0/ec/be/70990131.jpg,WEB_DETAIL\"},{tag:\"Foto\",multimediaId:70990132,title:\"Imagem de apartamento t2 em São Vicente, Lisboa\",shortImageUrl:false,aspectRatioId:1,absolutePosition:7,imageUrl:\"/imovel/28312244/foto/7/\",imageDataService:\"https://img3.idealista.pt/blur/WEB_DETAIL/0/id.pro.pt.image.master/81/36/e8/70990132.jpg,WEB_DETAIL\"},{tag:\"Foto\",multimediaId:70990133,title:\"Imagem de apartamento t2 em São Vicente, Lisboa\",shortImageUrl:false,aspectRatioId:1,absolutePosition:8,imageUrl:\"/imovel/28312244/foto/8/\",imageDataService:\"https://img3.idealista.pt/blur/WEB_DETAIL/0/id.pro.pt.image.master/b8/18/e3/70990133.jpg,WEB_DETAIL\"},{tag:\"Foto\",multimediaId:70990134,title:\"Imagem de apartamento t2 em São Vicente, Lisboa\",shortImageUrl:false,aspectRatioId:1,absolutePosition:9,imageUrl:\"/imovel/28312244/foto/9/\",imageDataService:\"https://img3.idealista.pt/blur/WEB_DETAIL/0/id.pro.pt.image.master/b5/ef/d3/70990134.jpg,WEB_DETAIL\"}],mainPromoPic:false};\n",
       "</script> <script id=\"lightbox-header-images-tmpl\" type=\"text/microtemplate\">\n",
       "<span id=\"image-gallery-tag\" class=\"main-title\"></span> <span id=\"image-gallery-share-links\"> <div> <a href=\"#\" id=\"image-gallery-share-friend-link\" data-xiti-page=\"detalle::conversiones::form_compartir_foto\" data-xiti-shared-n2=\"true\" class=\"icon-share\"><span>Enviar <span class=\"hide-txt\">a um amigo</span></span></a> <a href=\"#\" id=\"gallery-contact-btn\" class=\"icon-mail\" data-xiti-markup='{\"click\": {\"xtPage\":\"detalle::photo::contact\",\"mustXtn2\":false,\"actionType\":\"CLICK\"}}'><span>Contactar</span></a> </div> </span> <span id=\"image-gallery-pager\"></span> <span class=\"lightbox-close icon-close\" data-xiti-page></span>\n",
       "</script> <script id=\"lightbox-header-map-tmpl\" type=\"text/microtemplate\">\n",
       "<div class=\"address-tag\"> <span id=\"map-tag\" class=\"main-title\">Mapa da zona</span> <span id=\"address\">Apartamento T2 à venda em São Vicente, Lisboa</span> <span class=\"map-links\"> | <a href=\"#\" class=\"active\" data-xiti-page=\"detalle::streetview\" data-xiti-shared-n2=\"true\">Foto desta rua</a> <a href=\"#\" class=\"d-none\" data-xiti-page=\"detalle::mapa\" data-xiti-shared-n2=\"true\">Ver no mapa</a> </span> </div> <span class=\"lightbox-close icon-close\"></span> <div id=\"warning-address\" class=\"contextual warning icon-feedbk-alert\">O anunciante prefere não mostrar o endereço exato, mas é mais ou menos por aqui...</div>\n",
       "</script> <script defer=\"\" src=\"https://st1.idealista.pt/static/common/release/detail/detail.js?20171123083742\" type=\"text/javascript\"></script> <script id=\"login-box-title-fav\" type=\"text/microtemplate\">\n",
       "<span class=\"icon-fav\">\n",
       "<span class=\"txt-bold\">Guardar favorito</span>\n",
       "</span>\n",
       "</script> <script id=\"login-box-title-discard\" type=\"text/microtemplate\">\n",
       "<span class=\"icon-delete\">\n",
       "<span class=\"txt-bold\">Descartar</span>\n",
       "</span>\n",
       "</script> <script id=\"login-box-title-favfilter\" type=\"text/microtemplate\">\n",
       "<span class=\"txt-bold\">Ver os favoritos da tua pesquisa</span>\n",
       "</script> <script id=\"login-box-title-stats\" type=\"text/microtemplate\">\n",
       "<span class=\"txt-bold\">Ver o número de visitas e contactos</span>\n",
       "</script> <script id=\"login-box-content-text-fav\" type=\"text/microtemplate\">\n",
       "<div class=\"info-txt\">\n",
       "<p>Cria uma lista com os anúncios que mais gostas para os ter à mão <br /> Escreve notas pessoais (apenas para ti) para te recordares dos detalhes</p>\n",
       "<p>Serás avisado se algum dos teus favoritos muda de preço, se lhe inserirem mais fotos ou se for desativado</p>\n",
       "</div>\n",
       "</script> <script id=\"login-box-content-text-discard\" type=\"text/microtemplate\">\n",
       "<div class=\"info-txt\">\n",
       "<p></p>\n",
       "<p></p>\n",
       "</div>\n",
       "</script> <script id=\"login-box-content-text-favfilter\" type=\"text/microtemplate\">\n",
       "<div class=\"info-txt\">\n",
       "<p>Acede de forma rápida aos favoritos que tens em cada pesquisa e filtra com os critérios que quiseres</p>\n",
       "</div>\n",
       "</script> <script id=\"login-box-content-text-stats\" type=\"text/microtemplate\">\n",
       "<div class=\"info-txt\">\n",
       "<p>Consulta os dados de popularidade dos anúncios que te interessam:\n",
       "quantas visitas e contactos tiveram e quantas pessoas o guardaram nos seus favoritos</p>\n",
       "</div>\n",
       "</script> <script id=\"login-box-content-tmpl\" type=\"text/microtemplate\">\n",
       "<div class=\"login-box-form modal-inner\"> {{=contentExplanation}} <div id=\"loginlicker\"> <label for=\"email\"> <span class=\"username initial\"> O teu email </span> <span class=\"username named\" style=\"display:none;\" data-username=\"Olá outra vez {0} :-)\"> </span> <input id=\"email\" class=\"email\" type=\"email\" name=\"email\" autocomplete=\"email\"/> </label> <p class=\"spinner-inline left\"> A verificar o email </p> <label> <span class=\"username\">A tua palavra-passe</span> <input type=\"password\" class=\"password\" name=\"pwd\"/> </label> <p><a href=\"/recordar-palavra-passe\" class=\"forgotpassword\">Esqueceste-te da tua palavra-passe?</a></p> <label class=\"input-checkbox\"> <input name=\"cookie\" type=\"checkbox\" checked=\"checked\"/> <span><span>Recordar os teus dados</span></span> </label> <label> <span class=\"msg-repeat\"> Por favor, verifica se o teu email está bem escrito </span> <span class=\"repeat\"></span> </label> </div> </div>\n",
       "</script> <script id=\"login-box-button-initial\" type=\"text/microtemplate\">\n",
       "<div class=\"modal-inner\">\n",
       "<a href=\"#\" class=\"btn regular longer dummy\" disabled=\"disabled\">\n",
       "Vamos lá\n",
       "</a>\n",
       "</div>\n",
       "</script> <script id=\"login-box-button-fav\" type=\"text/microtemplate\">\n",
       "<div class=\"modal-inner\">\n",
       "<a href=\"#\" class=\"btn action longer accept\">\n",
       "Guardar favorito\n",
       "</a>\n",
       "</div>\n",
       "</script> <script id=\"login-box-button-discard\" type=\"text/microtemplate\">\n",
       "<div class=\"modal-inner\">\n",
       "<a href=\"#\" class=\"btn action longer accept\">\n",
       "Descartar anúncio\n",
       "</a>\n",
       "</div>\n",
       "</script> <script id=\"login-box-button-favfilter\" type=\"text/microtemplate\">\n",
       "<div class=\"modal-inner\">\n",
       "<a href=\"#\" class=\"btn action longer accept\">\n",
       "Ver apenas favoritos\n",
       "</a>\n",
       "</div>\n",
       "</script> <script id=\"login-box-button-stats\" type=\"text/microtemplate\">\n",
       "<div class=\"modal-inner\">\n",
       "<a href=\"#\" class=\"btn action longer accept\">\n",
       "Ver estatísticas\n",
       "</a>\n",
       "</div>\n",
       "</script> <script id=\"login-box-feedback-generic-content\" type=\"text/microtemplate\">\n",
       "<p class=\"feedback warning icon-feedbk-alert\">Só falta confirmares o email</p>\n",
       "<div class=\"modal-inner\">\n",
       "<p>Enviámos um correio a {{=email}}, não te esqueças de verificar a pasta de emais não desejados, para prevenir ;-)</p>\n",
       "</div>\n",
       "</script> <script id=\"login-box-feedback-generic-buttons\" type=\"text/microtemplate\">\n",
       "<div class=\"modal-inner\">\n",
       "<a href=\"#\" class=\"btn regular longer accept\">\n",
       "Entendido\n",
       "</a>\n",
       "</div>\n",
       "</script> <script id=\"promo-app-title-tmpl\" type=\"text/microtemplate\">\n",
       "<span class=\"txt-bold\">Descarrega a nossa app</span>\n",
       "</script> <script id=\"promo-app-content-tmpl\" type=\"text/microtemplate\">\n",
       "<img class=\"promoApp\" src=\"\">\n",
       "<p>Recebe alertas imediatos das tuas pesquisas e favoritos em qualquer lugar com a app gratuita do idealista</p>\n",
       "<div class=\"download\"><a id=\"buttonDownloadApp\" class=\"btn action txt-bold\" data-xiti-markup='{ \"click\": {\"xtPage\":\"promo-app::download\",\"mustXtn2\":true,\"actionType\":\"CLICK\"} }' href=\"http://m.onelink.me/5732e69f\">Descarregar agora</a></div>\n",
       "<div class=\"cancel\"><a class=\"buttonCancelDownloadApp\" id=\"buttonCancelDownloadApp\" data-xiti-click=\"promo-app::no-thanks\">Não, obrigado</a></div>\n",
       "</script> <script>\n",
       "var configTwoSteps = {\n",
       "urls: {\n",
       "defaultLogin: \"/pt/login.ajax\",\n",
       "defaultPreauthorized: \"/pt/login-preauthorized.ajax\",\n",
       "userStatus: \"/check-identification-service-user-status.ajax\",\n",
       "emailVerifyUrl: \"/ajax/alerts-ls-existence-and-active/17\"\n",
       "},\n",
       "userStatus: \"\" //authorized, preauthorized, blocked, error\n",
       "};\n",
       "</script> <script id=\"tsa-confirm-title\" type=\"text/microtemplate\">\n",
       "Verificação de identidade\n",
       "</script> <script id=\"tsa-confirm-send-again-pls\" type=\"text/microtemplate\">\n",
       "<div class=\"modal-inner\">\n",
       "<p>Não o recebeste ou não tens o telemóvel contigo?</p>\n",
       "<p class=\"icon-leads\"><a href=\"#\" id=\"sendAgain\">Enviámos novo código para telemóvel</a></p>\n",
       "<p class=\"icon-phone\">\n",
       "Entra em contacto com a nossa equipa ligando para\n",
       "<a class=\"phone\" href=\"tel://707 503 310\">707 503 310</a>\n",
       "</p>\n",
       "<div class=\"item-form\">\n",
       "<label>\n",
       "<span>Código de verificação</span>\n",
       "<input type=\"text\" id=\"code_2sa\" name=\"code\" data-validation=\"required\" data-message-required=\"Vamos, introduz o código ;-)\" />\n",
       "</label>\n",
       "</div>\n",
       "</div>\n",
       "</script> <script id=\"tsa-confirm-content\" type=\"text/microtemplate\">\n",
       "<p class=\"feedback success icon-feedbk-ok\">Hemos enviado un código ao {{=phone}}</p> <div class=\"modal-inner\"> <p>Antes de prosseguir e para tua segurança, recomendamos-te que verifiques o estado da tua ligação. Para isso, deves ver este <span class=\"nobreak\">ícone <img src=\"https://st1.idealista.pt/static/common/release/user-management/resources/img/locker.png\"/></span> ao lado do link do site do idealista. </p> </div> <div class=\"modal-inner\"> <div class=\"item-form\"> <label> <span>Código de verificação</span> <input type=\"text\" id=\"code_2sa\" name=\"code\" data-validation=\"required\" data-message-required=\"Vamos, introduz o código ;-)\"/> </label> <a href=\"#\" id=\"resendCode\">Não o recebeste ou não tens o telemóvel contigo?</a> </div> </div>\n",
       "</script> <script id=\"tsa-confirm-buttons\" type=\"text/microtemplate\">\n",
       "<div class=\"modal-inner\"> <a href=\"#\" title=\"Confirmar e entrar\" class=\"btn action accept confirm-btn\">Confirmar e entrar</a> </div>\n",
       "</script> <script id=\"tsa-confirm-wrong-code-feedback\" type=\"text/microtemplate\">\n",
       "O código inserido não coincide com o que te enviámos\n",
       "</script> <script id=\"tsa-contactus-title\" type=\"text/microtemplate\">\n",
       "Verificação de identidade\n",
       "</script> <script id=\"tsa-contactus-insistent-feedback\" type=\"text/microtemplate\">\n",
       "Para continuar, telefona para o número que te indicamos e segue as instruções\n",
       "</script> <script id=\"tsa-contactus-content\" type=\"text/microtemplate\">\n",
       "<p class=\"feedback error icon-feedbk-ko\">Estamos com problemas na validação do código que estás a tentar inserir</p> <div class=\"modal-inner\"> <div class=\"contactus\"> <p> Entra em contacto com a nossa equipa ligando para <a class=\"phone\" href=\"tel://707 503 310\">707 503 310</a> e disponibilizamos-te um novo código de verificação </p> </div> </div>\n",
       "</script> <script id=\"tsa-contactus-buttons\" type=\"text/microtemplate\">\n",
       "<div class=\"modal-inner\"> <a href=\"#\" title=\"Inserir novo código\" class=\"btn regular accept\">Inserir novo código</a> </div>\n",
       "</script> <script id=\"tsa-contactus-insert-content\" type=\"text/microtemplate\">\n",
       "<div class=\"modal-inner\"> <p>Insere o código disponibilizado durante a chamada para aceder à tua conta</p> </div> <div class=\"modal-inner\"> <div class=\"item-form\"> <label> <span>Código de verificação</span> <input type=\"text\" id=\"code_2sa\" name=\"code\" data-validation=\"required\" data-message-required=\"Vamos, introduz o código ;-)\"/> </label> </div> </div>\n",
       "</script> <script id=\"tsa-contactus-insert-buttons\" type=\"text/microtemplate\">\n",
       "<div class=\"modal-inner\"> <a href=\"#\" title=\"Confirmar e entrar\" class=\"btn action accept confirm-btn\">Confirmar e entrar</a> </div>\n",
       "</script> <script id=\"contact-feedback-tmpl\" type=\"text/microtemplate\">\n",
       "<div class=\"contextual success icon-feedbk-ok\"> <strong> {{normalMessage}} Muito bem! Mensagem enviada {{:normalMessage}} mensagem enviada às agências imobiliárias {{/normalMessage}} </strong> </div> {{showRepeat}} <a href=\"#\" class=\"repeat-contact\" data-xiti-page=\"volver-a-contactar-mail-cliente-v-detalle\"> Voltar a contactar </a> {{/showRepeat}} {{saveAlert}} <p> Guarda a tua pesquisa para receberes, por email, novos anúncios similares a este </p> <a href=\"#\" class=\"btn action txt-bold txt-big save-search\" title='Guardar pesquisa' data-summaryurl=\"/recibir-alertas-gratis-primer-resumen/25\" data-saveurl=\"/savealert.ajax/20\" data-saverelatedurl=\"/ajax/save-related-alert-popup.ajax/29\" data-emailverifyurl=\"/ajax/alerts-ls-existence-and-active/18\" data-forgotpasswordurl=\"/recordar-palavra-passe\" data-didntgetmailurl=\"/info/validar-email-info\"> Guardar pesquisa </a> {{/saveAlert}} {{suggestAgencies}} <p> Estas imobiliárias podem ajudar-te a procurar imóveis similares </p> <ul> {{@suggestedAgencies}} <li> <input type=\"checkbox\" id=\"suggest_inmo_{{=_key}}\" data-inmo-id=\"{{=_val.commercialDataId}}\" checked/> <label for=\"suggest_inmo_{{=_key}}\"> {{=_val.commercialName}} </label> </li> {{/@suggestedAgencies}} </ul> <a href=\"#\" class=\"btn regular contact-pro\" title='Contatar agências'> Contatar agências </a> {{/suggestAgencies}}\n",
       "</script> <script data-modal-title=\"Fazer uma contraproposta\" data-service-error=\"Lamentamos! Não conseguimos enviar a tua mensagem. Tenta novamente!\" id=\"counteroffer-tmpl\" type=\"text/microtemplate\">\n",
       "<div class=\"modal-inner\" contact-modal-type=\"counteroffer\"> <form action=\"\" novalidate> {{showFeedback}} <div class=\"feedbacks-container\"> {{=feedbackTmpl}} </div> {{/showFeedback}} {{showForm}} <ul> <li class=\"item-form\"> Preço atual: 272.500 eur </li> <li class=\"item-form\"> <label for=\"counteroffer-how\"> Quanto pagarias? </label> <input name=\"counteroffer-how\" id=\"counteroffer-how\" type=\"text\" value=\"\" class=\"half-input\" data-validation=\"required\" data-message-required='Indica quanto estás disposto a pagar.' autofocus> € <span data-error-here></span> </li> <li class=\"item-form contacted{{showContactTime}} show{{/showContactTime}}\"> <span class=\"icon-mail\">Contatado <span class=\"contacted-time\"> {{contactTime}} {{=contactTime}} {{:contactTime}} a {{/contactTime}} </span> </span> </li> <li class=\"item-form\"> <label for=\"counteroffer-comments\"> Mais comentários </label> <textarea name=\"counteroffer-comments\" id=\"counteroffer-comments\" type=\"text\"></textarea> {{showSuggestedMessages}} <ul class=\"last-contact-messages\"> {{suggestedMessages}} {{=suggestedMessages}} {{/suggestedMessages}} </ul> {{/showSuggestedMessages}} </li> <li class=\"item-form\"> <label for=\"counteroffer-email\"> O teu email </label> <input name=\"counteroffer-email\" id=\"counteroffer-email\" type=\"email\" class=\"js-email-field\" value=\"\" autocomplete=\"email\" data-validation=\"required email\" data-message-email=\"Confirma o formato do teu email.\" data-message-required='Confirma o formato do teu email.'> </li> <li class=\"item-form half-items clearfix\"> <div> <label for=\"counteroffer-phone\"> O teu telefone </label> <input name=\"counteroffer-phone\" id=\"counteroffer-phone\" type=\"tel\" value=\"\" data-validation=\"phone required\" data-message-phone=\"Confirma o teu telefone.\" data-message-required='Confirma o teu telefone.'> </div> <div> <label for=\"counteroffer-name\"> O teu nome </label> <input name=\"counteroffer-name\" id=\"counteroffer-name\" type=\"text\" data-validation=\"name\" value=\"\"> </div> </li> <li> <div class=\"captcha-miniFields d-none\" data-service-prefix=\"counterOffer\"> <div class=\"captcha\"> <div class=\"captcha-img\"> </div> </div> <label> <span>Escreve os números e as letras que vês em cima</span> <input type=\"text\" class=\"_captcha\" name=\"contact-captcha\" autocapitalize=\"none\" autocorrect=\"off\"/> </label> <p><a class=\"captcha-reload\" href=\"#\">Não consegues perceber?</a></p> </div> </li> <div id=\"privacy-policy-detail\" class=\"item-form privacy-policy-container\"> <label class=\"input-checkbox\" data-validation=\"checkbox\" data-message-checkbox=\"Para contactar deves aceitar a política de privacidade\"> <input type=\"checkbox\" name=\"privacy-policy-checkbox\"/> <span><span> Aceitar <a href=\"/info/protecao-dados\" target=\"_blank\">política de privacidade</a> </span></span> </label> </div> <input type=\"hidden\" name=\"operationId\" value=\"1\"/> <input type=\"hidden\" name=\"type\" id=\"contact-type\" value=\"\"/> <li class=\"item-form\"> <span class=\"service-error-container contextual full-width error icon-feedbk-ko d-none\"></span> <div class=\"d-none\"> <input type=\"text\" value=\"\" name=\"counteroffer-mail\"> </div> <input type=\"hidden\" name=\"adId\" value=\"28312244\"/> <input class=\"btn action txt-bold txt-big\" value='Fazer uma contraproposta' type=\"submit\" id=\"counteroffer-send\" data-xiti-page=\"contactar-mail-cliente-v-detalle\"> </li> </ul> {{/showForm}} </form> </div>\n",
       "</script> <script id=\"saveAlertsPopupTitle\" type=\"text/microtemplate\"> <div class=\"modal-inner\"> Antes de continuar, comprova que estes critérios são corretos </div>\n",
       "</script> <script id=\"saveAlertsPopupContent\" type=\"text/microtemplate\"> <div class=\"modal-inner\"> <ul class=\"criterios\"> {{@criterios}}<li>{{=_val}}</li>{{/@criterios}} </ul> <span class=\"advice\"> {{avisoNormal}} Publicam-se em média <strong>{{=numAnuncios}} anúncios novos por dia</strong> com estes critérios {{/avisoNormal}} {{avisoMinimo}} <span class=\"lowFrequency\"><strong>Atenção! Vais receber poucos alertas</strong></span><br/> {{minimoOne}} <span class=\"lowFrequency\">Publicam-se em média menos de 1 anúncio novo por dia com estes critérios</span> {{:minimoOne}} <span class=\"lowFrequency\">Publicam-se em média menos de {{=numAnuncios}} anúncios novos por dia com estes critérios</span> {{/minimoOne}} {{/avisoMinimo}} {{avisoMaximo}} <span class=\"highFrequency\"><strong>Atenção! Vão-te chegar muitos alertas</strong></span><br/> <span class=\"highFrequency\">Publicam-se em média mais de {{=numAnuncios}} anúncios novos por dia com estes critérios</span> {{/avisoMaximo}} </span> </div>\n",
       "</script> <script id=\"saveAlertsPopupButtons\" type=\"text/microtemplate\"> <div class=\"modal-inner\"> {{continuarSolo}} <a href=\"#\" class=\"continuarlink accept\">Os critérios estão bem, continuar &raquo;</a> {{:continuarSolo}} <a href=\"#\" class=\"btn regular accept\">Sim são corretos, continuar</a> <a href=\"#\" class=\"revisarCriterios\">Rever critérios</a> {{/continuarSolo}} </div>\n",
       "</script> <form action=\"/seleccionar-tipo-alerta.htm\" class=\"is-hidden\" data-popupurl=\"/recibir-alertas-gratis-primer-resumen\" id=\"suggestForm\" method=\"post\" name=\"suggestForm\"> <input name=\"mailSaveSearch\" type=\"hidden\" value=\"\"/> <input name=\"savingAlertStartingPoint\" type=\"hidden\" value=\"\"> <script class=\"title\" type=\"text/microtemplate\">\n",
       "Guarda as tuas pesquisas para não perderes os anúncios que te interessam </script> <script class=\"content\" type=\"text/microtemplate\">\n",
       "<p>Mandamos-te por email os novos anúncios que se publiquem com os teus critérios</p> <ul class=\"criterios\"> {{@criterios}}<li>{{=_val}}</li>{{/@criterios}} </ul> <span class=\"advice\"> Publicam-se em média <strong>{{=numAnuncios}} anúncios novos por dia</strong> com estes critérios </span> </script> <script class=\"buttons\" type=\"text/microtemplate\">\n",
       "<a href=\"#\" class=\"btn regular accept\">Guardar pesquisa</a> <a href=\"#\" class=\"cancel\">Não, obrigado</a> </script> </input></form> <script data-title-normal=\"Enviar a um amigo\" data-title-picture=\"Enviar esta foto a um amigo\" data-title-virtualtour=\"Enviar visita virtual a um amigo\" id=\"share-module-tmpl\" type=\"text/microtemplate\">\n",
       "<div class=\"modal-inner\"> <form action=\"\" novalidate> <div class=\"loading-layer\"> <div class=\"loading\"></div> </div> {{showMessage}} <div class=\"feedback success icon-feedbk-ok\"> {{picture.id}} A foto foi enviada para os teus amigos {{:picture.id}} {{virtualtour.id}} Enviámos a visita virtual aos teus amigos {{:virtualtour.id}} Já enviámos o anúncio aos teus amigos {{/virtualtour.id}} {{/picture.id}} </div> {{/showMessage}} {{showFavAdded}} <p>Para tua comodidade também guardámos o anúncio como favorito</p> {{/showFavAdded}} {{virtualtour.id}} <div class=\"picture-container virtualtour-container\"> <img src=\"{{=virtualtour.id}}\" alt=\"{{=virtualtour.id}}\" class=\"pictureSend horizontal\"/> </div> {{/virtualtour.id}} {{picture.id}} <div class=\"picture-container\"> <img src=\"{{=picture.url}}\" alt=\"{{=picture.url}}\" class=\"pictureSend {{=picture.orientation}}\"/> </div> <input type=\"hidden\" name=\"share-to-friend-to-picture_id\" value=\"{{=picture.id}}\"/> {{/picture.id}} {{virtualtour.id}} <input type=\"hidden\" name=\"share-to-friend-to-virtualtour_id\" value=\"{{=virtualtour.id}}\"/> {{/virtualtour.id}} {{showForm}} <ul> <li class=\"item-form\"> <label for=\"share-to-friend-to\">Emails dos teus amigos</label> <input name=\"share-to-friend-to\" id=\"share-to-friend-to\" type=\"email\" value=\"\" data-validation=\"required multiple_emails\" data-message-required=\"Diz-nos a quem enviamos ;-)\" data-message-multiple_emails=\"Confirma o formato dos emails dos teus amigos\" autofocus> <span class=\"helpText\">Se são vários separa-os com uma vírgula (,)</span> </li> <li class=\"item-form\"> <label for=\"share-to-friend-from\">O teu email</label> <input name=\"contact-email\" id=\"share-to-friend-from\" value=\"\" type=\"email\" autocomplete=\"email\" data-validation=\"required email\" data-message-required=\"Indica o teu email\" data-message-email=\"Confirma o formato do teu email.\"> <span class=\"helpText\"> {{picture.id}} Quem recebe a foto verá o teu email {{:picture.id}} {{virtualtour.id}} Quem receber a visita virtual vai ver {{:virtualtour.id}} Quem receber o anúncio poderá ver o teu email {{/virtualtour.id}} {{/picture.id}} </span> </li> <li class=\"item-form\"> <label for=\"share-to-friend-message\">A tua mensagem</label> <textarea rows=\"2\" name=\"contact-message\" maxlength=\"1000\" id=\"share-to-friend-message\"></textarea> </li> <li> <input class=\"btn action txt-bold txt-big\" value='Enviar' type=\"submit\" id=\"share-friend-send\"/> </li> </ul> <input type=\"hidden\" id=\"adId\" name=\"share-to-friend-adId\" value=\"28312244\"/> <input type=\"hidden\" id=\"cookieEnabled\" name=\"cookieEnabled\" value=\"true\"/> <div class=\"d-none\"> <input type=\"text\" value=\"\" name=\"contact-mail\"> </div> {{:showForm}} {{picture.id}} <p><a href=\"\" data-xiti-shared-n2=\"true\" data-xiti-page=\"detalle::conversiones::form_compartir_foto\" title=\"Enviar esta foto a mais gente\" class=\"anotherTime\">Enviar esta foto a mais gente</a></<p> {{:picture.id}} {{virtualtour.id}} <p><a href=\"\" data-xiti-shared-n2=\"true\" data-xiti-page=\"detalle::conversiones::form_compartir_foto\" title=\"Enviar esta visita virtual a mais gente\" class=\"anotherTime\">Enviar esta visita virtual a mais gente</a></p> {{:virtualtour.id}} <p><a href=\"\" data-xiti-shared-n2=\"true\" data-xiti-page=\"detalle::conversiones::form_compartir\" data-xiti-click=\"detalle::compartir::email\" title=\"Envia este anúncio a mais pessoas\" class=\"anotherTime\">Envia este anúncio a mais pessoas</a></p> {{/virtualtour.id}} {{/picture.id}} <p> <a href=\"#\" class=\"btn action longer cancel\">Fechar</a> </p> {{/showForm}} </form> </div>\n",
       "</script> <script id=\"notify-incidence-step1\" type=\"text/microtemplate\">\n",
       "<div class=\"modal-inner\"> <form action=\"\" method=\"post\" id=\"ferror\" name=\"ferror\"> <div class=\"item-form\"> <p>Anúncio:Apartamento T2 à venda em São Vicente, Lisboa</p> <p>Esta informação chega à equipa de qualidade do idealista e ao anunciante, mas este não ficará a conhecer a tua identidade.</p> <ul data-validation=\"radio\" data-message-radio=\"Por favor seleciona uma das opções que melhor descreva o tipo de erro que encontraste\"> <li> <label class=\"input-radio\"> <input type=\"radio\" id=\"iTipoComentario3\" name=\"incidenceTypeId\" value=\"3\"/> <span><span>Já foi vendido</span></span> </label> </li> <li> <label class=\"input-radio\"> <input type=\"radio\" id=\"iTipoComentario7\" name=\"incidenceTypeId\" value=\"7\"/> <span><span>A morada está mal</span></span> </label> </li> <li> <label class=\"input-radio\"> <input type=\"radio\" id=\"iTipoComentario1\" name=\"incidenceTypeId\" value=\"1\"/> <span><span>Erro nas fotos</span></span> </label> </li> <li> <label class=\"input-radio\"> <input type=\"radio\" id=\"iTipoComentario11\" name=\"incidenceTypeId\" value=\"11\"/> <span><span>É uma possível fraude</span></span> </label> </li> <li> <label class=\"input-radio\"> <input type=\"radio\" id=\"iTipoComentario6\" name=\"incidenceTypeId\" value=\"6\"/> <span><span>O preço não é correto</span></span> </label> </li> <li> <label class=\"input-radio\"> <input type=\"radio\" id=\"iTipoComentario8\" name=\"incidenceTypeId\" value=\"8\"/> <span><span>O telefone está errado e não atendem</span></span> </label> </li> <li> <label class=\"input-radio\"> <input type=\"radio\" id=\"iTipoComentario9\" name=\"incidenceTypeId\" value=\"9\"/> <span><span>O email esta errado e o anunciante não responde</span></span> </label> </li> <li> <label class=\"input-radio\"> <input type=\"radio\" id=\"iTipoComentario5\" name=\"incidenceTypeId\" value=\"5\"/> <span><span>Outro motivo</span></span> </label> </li> </ul> </div> <div class=\"item-form\"> <label> <span>Descrição completa do erro (opcional)</span> <textarea name=\"comments\" maxlength=\"1000\" id=\"ferror-text\" placeholder=\"Este texto também chegará ao anunciante\" data-message-required=\"Por favor, descreve o erro ou erros que encontraste\"></textarea> <span id=\"comment\" class=\"help-text block v-hidden\">Este texto também chegará ao anunciante</span> </label> </div> <a href=\"#\" class=\"btn action\" id=\"submitBtn\">Enviar erro</a> </form> </div>\n",
       "</script> <script id=\"notify-incidence-step2\" type=\"text/microtemplate\">\n",
       "<div class=\"modal-inner\"> <form action=\"\" id=\"ferror2\" method=\"post\"> <input type=\"hidden\" name=\"incidenceId\" id=\"incidenceId\" value=\"\"/> <div class=\"feedback success icon-feedbk-ok\" id=\"feedback-success-div\"> <p>Obrigado, vamos rever rapidamente.</p> </div> <div class=\"item-form\"> <h2>Queres ser avisado quando ficar resolvido?</h2> <p>Indíca-nos os teus dados (o anunciante não os recebe)</p> </div> <div class=\"item-form\"> <label for=\"incidence-user-name\">O teu nome e apelidos</label> <input name=\"name\" id=\"incidence-user-name\" value=\"\" type=\"text\" data-validation=\"required\" data-message-required=\"Requerido\"> </div> <div class=\"item-form\"> <label for=\"incidence-user-email\">O teu email</label> <input name=\"mail\" id=\"incidence-user-email\" value=\"\" type=\"email\" autocomplete=\"email\" data-validation=\"required email\" data-message-required=\"Requerido\" data-message-email=\"Não é um email válido\"> </div> <a href=\"#\" class=\"btn action\" id=\"submitBtn\">Enviar</a> <a href=\"#\" id=\"cancelBtn\">Não, obrigado</a> </form> </div>\n",
       "</script> <script id=\"notify-incidence-step3\" type=\"text/microtemplate\">\n",
       "<div class=\"modal-inner\"> <div class=\"feedback success icon-feedbk-ok\" id=\"user-added-success-div\"> <p>Combinado, avisamos-te quando estiver solucionado</p> </div> <div class=\"item-form\"> <p>Obrigado por nos ajudares a melhorar o idealista</p> </div> <a href=\"#\" class=\"btn action\" id=\"closeBtn\">Fechar</a> </div>\n",
       "</script> <script id=\"contact-mortgages-tmpl\" type=\"text/microtemplate\">\n",
       "<div class=\"modal-inner\"> <form id=\"send-contact-form\" action=\"/credito-habitacao/simulador-credito-habitacao/enviar-contacto\" method=\"post\" novalidate> <input type=\"hidden\" name=\"adId\" value=\"28312244\"> <input type=\"hidden\" name=\"monthlyRate\" value=\"{{=calculated.monthlyRate}}\"> <input type=\"hidden\" name=\"interestRate\" value=\"{{=calculated.taxes}}\"> <input type=\"hidden\" name=\"totalPrice\" value=\"{{=calculated.houseAmount}}\"> <input type=\"hidden\" name=\"mortgageTime\" value=\"{{=calculated.numberOfMonths}}\"> <input type=\"hidden\" name=\"mortgageFormType\" value=\"0\"> <input type=\"hidden\" name=\"locationId\" value=\"0-EU-PT-11\"> <input type=\"hidden\" name=\"locationName\" value=\"São Vicente\"> <input type=\"hidden\" name=\"propertyTypeId\" value=\"1\"> <input type=\"hidden\" name=\"options\" value=\"simulation\"> <input type=\"hidden\" name=\"origin\" value=\"{{=calculated.simulationType}}\"> <input type=\"hidden\" name=\"mortgageSource\" value=\"\"> <input type=\"hidden\" name=\"mortgageSourceDesc\" value=\"\"> <div class=\"hipotecas-logo\"> <a target=\"_blank\" href=\"/credito-habitacao\"> <span class=\"icon-idealista-icon\"></span><span class=\"icon-hipotecas\"></span> </a> </div> <div class=\"feedback-container d-none\"> <div class=\"feedback success icon-feedbk-ok\"> Os teus dados foram enviados. <span class=\"info\"> Se não queres esperar liga-nos para <span class=\"phoneDesktop\">21 033 22 69</span> <a href=\"tel:210332269\" class=\"phoneMobile\">21 033 22 69</a> (dias úteis das 09h00 às 20h00) </span> </div> <div> <span>Em breve, entraremos em contacto contigo para analisar o teu caso.</span> <span>Serviço gratuito e sem compromisso.</span> </div> <h4>Conhece os melhores créditos habitação selecionados pelo idealista:</h4> <a id=\"comparator-link\" href=\"#\">Ver créditos habitação personalizados</a> <a href=\"#\" class=\"btn regular closeBtn cancel\">Fechar</a> </div> <div class=\"form-container\"> <div id=\"contact-step1\"> <p class=\"mortgages-info\"> Personaliza a tua simulação para ver as melhores ofertas de crédito à habitação<br> {{showEuriborMessage}} Desde Euribor + 0,99%<br> {{/showEuriborMessage}} </p> <div class=\"feedback contextual full-width warning icon-feedbk-alert error-container d-none\"> <p>Ocorreu um problema, por favor, volta a tentar</p> </div> <p class=\"txt-bold\">Deixa-nos os teus dados. Nós contactamos-te</p> <h2></h2> <div class=\"item-form half-items clearfix\"> <div> <label><span>Tipo de compra</span> <select id=\"buyTypeId\" name=\"buyTypeId\" data-validation=\"select\" data-message-select=\"Precisamos de saber este dado\"> <option value=\"\">Seleciona</option> <option value=\"1\">Residência permanente</option> <option value=\"2\">Segunda residência</option> <option value=\"4\">Não residente</option> <option value=\"3\">Outro</option> </select> </label> </div> <div> <label> <span>Preço do imóvel</span> <span class=\"desc-container\"> <input type=\"tel\" name=\"mortgageAmount\" data-validation=\"required number\" maxlength=\"13\" value=\"272500\" data-message-required=\"Precisamos de saber este dado\" data-message-number=\"Deve ser um número\"/> <span class=\"desc\">Euros</span> </span> </label> </div> </div> <div class=\"item-form half-items clearfix\"> <div> <label> <span>Poupança disponível</span> <span class=\"desc-container\"> {{showEvolutionInputs}} <input type=\"tel\" name=\"savings\" data-validation=\"required number\" maxlength=\"13\" value=\"{{=calculated.savings}}\" data-message-required=\"Precisamos de saber este dado\" data-message-number=\"Deve ser um número\"/> {{:showEvolutionInputs}} <input type=\"tel\" name=\"savings\" data-validation=\"required number\" maxlength=\"13\" value=\"\" data-message-required=\"Precisamos de saber este dado\" data-message-number=\"Deve ser um número\"/> {{/showEvolutionInputs}} <span class=\"desc\">Euros</span> </span> </label> </div> <div> <label> <span>Quotas de outros empréstimos</span> <span class=\"desc-container\"> <input type=\"tel\" name=\"monthlyDebts\" data-validation=\"number\" maxlength=\"13\" value=\"\" data-message-number=\"Deve ser um número\"/> <span class=\"desc\">Euros</span> </span> </label> </div> </div> <div class=\"item-form half-items clearfix\"> <div> <label> <span>Rendimento mensal familiar</span> <span class=\"desc-container\"> <input type=\"tel\" name=\"monthlyIncome\" data-validation=\"required number\" value=\"\" maxlength=\"13\" data-message-required=\"Precisamos de saber este dado\" data-message-number=\"Deve ser um número\"/> <span class=\"desc\">Euros</span> </span> </label> </div> <div> <label> <span>Idade do solicitador mais jovem</span> <span class=\"desc-container\"> <input type=\"tel\" name=\"youngestAge\" data-validation=\"required number maximum minimum\" data-maximum=\"70\" data-minimum=\"18\" maxlength=\"2\" value=\"\" data-message-minimum=\"Confirma a sua idade\" data-message-maximum=\"Confirma a sua idade\" data-message-required=\"Precisamos de saber este dado\" data-message-number=\"Deve ser um número\"/> </span> </label> </div> </div> <div class=\"item-form\"> <button id=\"next-to-step2-btn\" type=\"button\" class=\"btn action expand\" data-xiti-click=\"\"></button> </div> </div> <div id=\"no-savings-step\"> <div class=\"feedback contextual full-width warning icon-feedbk-alert error-container\"> <p>Os bancos pedem um pouco mais de ti</p> </div> <p>Para conseguir o crédito à habitação, os bancos normalmente solicitam uma entrada de 20% de preço de compra mais despesas.</p> <a id=\"go-to-simulator\" href=\"#\" data-simulator-url=\"/credito-habitacao/hipoteca-para-comprar-casa?adId=28312244&xtatc=INT-8-[detalle_personalizar_hipoteca_consecutivo]\" class=\"btn action expand\" data-xiti-click=\"\">Calcular despesas</a> <div> <a id=\"back-step1-btn\" href=\"#\" data-xiti-click=\"\">Voltar ao passo 1</a> </div> </div> <div id=\"contact-step2\"> <p class=\"mortgages-info\"> Ajudamos-te com o teu crédito: <span class=\"phoneDesktop\">21 033 22 69</span> <a href=\"tel:210332269\" class=\"phoneMobile\">21 033 22 69</a> <br> <span>Serviço gratuito e sem compromisso.</span> </p> <div class=\"feedback contextual full-width warning icon-feedbk-alert error-container d-none\"> <p>Ocorreu um problema, por favor, volta a tentar</p> </div> <p class=\"txt-bold\">Deixa-nos os teus dados. Nós contactamos-te</p> <h2></h2> <div class=\"item-form half-items clearfix\"> <div> <label> <span>Nome e apelidos</span> <input type=\"text\" name=\"username\" maxlength=\"50\" value=\"\" autocomplete=\"on\" data-validation=\"required\" data-message-required=\"Precisamos de saber este dado\"/> </label> </div> <div> <label> <span>Telefone</span> <input type=\"text\" name=\"phone\" value=\"\" data-validation=\"required phone\" data-message-required=\"Precisamos de saber este dado\" data-message-phone='Confirma o teu telefone.' maxlength=\"13\"/> </label> </div> </div> <div class=\"item-form email\"> <div> <label> <span>Email</span> <input type=\"email\" name=\"email\" maxlength=\"100\" value=\"\" autocomplete=\"email\" data-validation=\"required email\" data-message-required=\"Precisamos de saber este dado\" data-message-email='Confirma o formato do teu email.' </label> </div> </div> <div class=\"item-form half-items clearfix\"> <div> <label><span>Quando vais comprar?</span> <select id=\"buyingWhen\" name=\"buyingWhen\" data-validation=\"select\" data-message-select=\"Precisamos de saber este dado\"> <option value=\"\">Seleciona</option> <option value=\"1\">Imediatamente</option> <option value=\"2\">1-3 meses</option> <option value=\"3\">4-6 meses</option> <option value=\"4\">Mais de 6 meses</option> </select> </label> </div> <div> <label> <span>Tipo de emprego</span> <select id=\"contractType\" name=\"contractType\" data-validation=\"select\" data-message-select=\"Precisamos de saber este dado\"> <option value=\"\">Seleciona</option> <option value=\"1\">Sem termo</option> <option value=\"4\">Temporário</option> <option value=\"10\">Pensionista</option> <option value=\"2\">Funcionário público</option> <option value=\"3\">Por conta própria</option> <option value=\"0\">Outros</option> </select> </label> </div> </div> <div class=\"item-form observations\"> <label> <span> Tens alguma pergunta? (Opcional) </span> <textarea maxlength=\"1000\" name=\"message\"></textarea> </label> </div> <div class=\"item-form\"> <input type=\"submit\" class=\"btn action expand\" data-xiti-click=\"\" value=\"Analisar o meu caso\"> <span class=\"privacyText txt-small\"> Ao clicar \"Analisar o meu caso\" aceitas as <a target=\"_blank\" href=\"/credito-habitacao/condiciones-contratacion\">condições gerais</a> e <a target=\"_blank\" href=\"/credito-habitacao/privacidad\">política de privacidade</a> </span> <a class=\"privacyLink\" href=\"/credito-habitacao/privacidad\">Política de privacidade</a> <a class=\"privacyLink\" href=\"/credito-habitacao/condiciones-contratacion\">condições gerais</a> </div> </div> </div> </form> </div>\n",
       "</script> <script id=\"show-more-photos-tmpl\" type=\"text/microtemplate\">\n",
       "<div id=\"show-more-photos-button\" class=\"button\"><a>Ver {{=hiddenPhotosLeft}} fotos seguintes</a></div>\n",
       "</script> <script data-title=\"\" id=\"uci-contact-tmpl\" type=\"text/microtemplate\">\n",
       "<section class=\"contact-uci\"> <form class=\"clearfix\" action=\"/ajax/contact-mortgages.ajax\" method=\"post\" novalidate> <input type=\"hidden\" name=\"loanAmount\" value=\"{{=savings}}\"> <input type=\"hidden\" name=\"mortgageTime\" value=\"{{=numberOfMonths}}\"> <input type=\"hidden\" name=\"interestRate\" value=\"{{=taxes}}\"> <input type=\"hidden\" name=\"options\" value=\"\"> <input type=\"hidden\" name=\"origin\" value=\"1\"> <input type=\"hidden\" name=\"adId\" value=\"28312244\"> <input type=\"hidden\" name=\"mortgageSource\" value=\"idealista\"> <input type=\"hidden\" name=\"mortgageSourceDesc\" value=\"\"> <input type=\"hidden\" name=\"mortgageFormType\" value=\"0\"> <input type=\"hidden\" name=\"adjustSavings\" value=\"false\"> <div class=\"logo-uci\"> <img src=\"https://st1.idealista.pt/static/common/img/mortgages/UCILogotipo.png\" alt=\"\"/> </div> <div class=\"feedback-container uci d-none\"> <div class=\"feedback success icon-feedbk-ok\"> Os teus dados foram enviados. <span class=\"info\"> Se não queres esperar liga-nos para <span class=\"phoneDesktop\">21 033 22 69</span> <a href=\"tel:210332269\" class=\"phoneMobile\">21 033 22 69</a> (dias úteis das 09h00 às 20h00) </span> </div> <div> <span>Em breve, entraremos em contacto contigo para analisar o teu caso.</span> <span>Serviço gratuito e sem compromisso.</span> </div> <a href=\"#\" class=\"btn regular closeBtn cancel\">Fechar</a> </div> <div class=\"feedback contextual full-width warning icon-feedbk-alert error-container d-none\"> <p>Ocorreu um problema, por favor, volta a tentar</p> </div> <div class=\"form-container\"> <p>Uma vez preenchido o formulário a UCI entrará em contacto contigo para apresentar-te as melhores soluções de Crédito Habitação</p> <div class=\"item-form half-items clearfix\"> <p>Indíca-nos os teus dados</p> <div> <label> <span>Preço do imóvel</span> <span class=\"desc-container\"> <span class=\"desc\">Euros</span> <input type=\"tel\" name=\"mortgageAmount\" maxlength=\"9\" data-min=\"0\" data-max=\"2000000\" data-validation=\"required number\" data-message-required=\"Precisamos de saber este dado\" value=\"272500\"> </span> </label> </div> <div class=\"savings-container\"> <label> <span>Poupança disponível</span> <span class=\"desc-container\"> <span class=\"desc\">Euros</span> <input type=\"tel\" name=\"savings\" maxlength=\"9\" data-min=\"0\" data-max=\"2000000\" data-validation=\"required number savingamountinvalid\" data-message-required=\"Precisamos de saber este dado\"> </span> </label> </div> </div> <div class=\"feedback contextual full-width warning icon-feedbk-alert d-none\" id=\"saving-warning\"></div> <div class=\"item-form half-items clearfix\"> <div> <label> Nº de Titulares <ul class=\"horizontal-list\"> <li> <label class=\"input-radio\"> <input type=\"radio\" name=\"applicants\" checked=\"checked\" value=\"1\"> <span> <span>1 titular</span> </span> </label> </li> <li> <label class=\"input-radio\"> <input type=\"radio\" name=\"applicants\" value=\"2\"> <span> <span>2 titulares</span> </span> </label> </li> </ul> </label> </div> <div> <label> <span>Idade do titular mais velho</span> <span class=\"desc-container\"> <span class=\"desc\">Anos</span> <input type=\"tel\" name=\"olderHolderAge\" maxlength=\"2\" data-min=\"0\" data-max=\"99\" data-validation=\"required number\" data-message-required=\"Precisamos de saber este dado\" value=\"\"> </span> </label> </div> </div> <div class=\"item-form half-items clearfix\"> <div> <label> <span>Rendimento mensal familiar</span> <span class=\"desc-container\"> <span class=\"desc\">Euros</span> <input type=\"tel\" name=\"monthlyIncome\" maxlength=\"9\" data-min=\"0\" data-max=\"2000000\" data-validation=\"required number\" data-message-required=\"Precisamos de saber este dado\" value=\"\"> </span> </label> </div> <div> <label for=\"buyingType\"> <span>Tipo de compra</span> <select id=\"buyTypeId\" name=\"buyTypeId\" data-validation=\"select\" data-message-select=\"Precisamos de saber este dado\"> <option value=\"\">Seleciona</option> <option value=\"1\">Residência permanente</option> <option value=\"2\">Segunda residência</option> <option value=\"4\">Não residente</option> <option value=\"3\">Outro</option> </select> </label> </div> </div> <div class=\"item-form half-items clearfix\"> <p>Detalhes de contacto</p> <div> <label> <span>Nome e apelidos</span> <input data-validation=\"required\" data-message-required=\"Precisamos de saber este dado \" name=\"username\" type=\"text\" maxlength=\"50\"> </label> </div> <div> <label> <span>Telefone</span> <input id=\"phone\" name=\"phone\" type=\"text\" data-validation=\"phone-inter required\" data-message-phone-inter=\"Confirma o teu telefone.\" data-message-required=\"Precisamos de saber este dado\"> </label> </div> </div> <div class=\"item-form half-items clearfix\"> <div> <label> <span>Email</span> <input id=\"email\" name=\"email\" type=\"email\" autocomplete=\"email\" data-validation=\"email required\" data-message-email=\"Confirma o formato do teu email.\" data-message-required=\"Precisamos de saber este dado\" maxlength=\"100\"> </label> </div> <div> <label> <span>Quando vais comprar?</span> <select id=\"buyingWhen\" name=\"buyingWhen\" data-validation=\"select\" data-message-select=\"Precisamos de saber este dado\"> <option value=\"\">Seleciona</option> <option value=\"1\">Imediatamente</option> <option value=\"2\">1-3 meses</option> <option value=\"3\">4-6 meses</option> <option value=\"4\">Mais de 6 meses</option> </select> </label> </div> </div> <div class=\"item-form observations\"> <label> <span>Tens alguma pergunta? (Opcional)</span> <textarea id=\"message\" name=\"message\" maxlength=\"1000\"></textarea> </label> </div> <div class=\"item-form\"> <input class=\"btn action\" type=\"submit\" value=\"Enviar\"/> <span class=\"privacyText txt-small\"> Quando decides \"Enviar\" aceitas as <a target=\"_blank\" href=\"/info/aviso-legal\">condições gerais</a> e <a target=\"_blank\" href=\"/info/protecao-dados\">política de privacidade</a> </span> </div> </div> </form> </section>\n",
       "</script> <script id=\"contact-uci-saving-warning-tmpl\" type=\"text/microtemplate\">\n",
       "Precisas de uma entrada mínima de 20%. <a id=\"link-set-saving\" href=\"#\" data-xiti-click=\"detalle::adjust-savings\">Ajustar aos {{=minPercentage}}%</a>.\n",
       "</script> <script id=\"comment-translation-tmpl\" type=\"text/microtemplate\"> <div class=\"translationWarning\"> <span>{{=message}}</span> <span class=\"viewOriginalComment\"><a href=\"#\" data-lang=\"pt\">{{=messageLink}}</a></span> <div class=\"googleTranslateLogo\"><img src=\"https://st1.idealista.pt/static/common/release/detail/resources/img/google-translate.png\"></div> </div>\n",
       "</script> <script id=\"comment-tmpl\" type=\"text/microtemplate\"> <div class=\"adCommentsLanguage expandable\" data-compressed-max-length=\"1650\"> {{=commentText}} </div> {{expandable}} <div class=\"expanderParent\"> <span class=\"icon-arrow-right\"></span><a href=\"#\" class=\"expander\">Ler comentário completo</a> </div> {{/expandable}}\n",
       "</script> <script async=\"\" src=\"https://st1.idealista.pt/static/common/js/criteo/ld.js?20171123083742\" type=\"text/javascript\"></script> <script type=\"text/javascript\">\n",
       "<!--\n",
       "xtnv = document;\n",
       "xtsd = \"https://logs11\";\n",
       "xtsite = \"410875\";\n",
       "xtdmc = \".idealista.pt\";\n",
       "xtn2 = \"2\";\n",
       "xtpage = \"detalle::home\";\n",
       "xtdi = \"0\";\n",
       "xt_multc = \"\";\n",
       "xt_orderid = \"\";\n",
       "xt_roimt = \"\";\n",
       "xt_an = \"anonymous\";\n",
       "xt_ac = \"2\";\n",
       "clic = \"#clic#\";\n",
       "xt_tags = \"[sin_tag]\"; if (window.xtparam != null) { window.xtparam += \"&tag=\" + xt_tags; } else { window.xtparam = \"&tag=\" + xt_tags; };\n",
       "if (window.xtparam!=null) {\n",
       "window.xtparam+=\"&cmd=\"+xt_orderid+\"&an=\"+xt_an+\"&ac=\"+xt_ac+\"&roimt=\"+xt_roimt+xt_multc;\n",
       "} else {\n",
       "window.xtparam=\"&cmd=\"+xt_orderid+\"&an=\"+xt_an+\"&ac=\"+xt_ac+\"&roimt=\"+xt_roimt+xt_multc;\n",
       "};\n",
       "//-->\n",
       "</script> <noscript> <img height=\"1\" src=\"https://logs11.xiti.com/hit.xiti?s=410875&amp;s2=2&amp;p=detalle::home&amp;di=0&amp;x19=[]&amp;cmd=&amp;xt_an=anonymous&amp;xt_ac=2&amp;roimt=&amp;clic=#clic#\" width=\"1\"> </img></noscript><script async=\"\" src=\"https://st1.idealista.pt/static/common/js/ext/xiti/xiti.js\" type=\"text/javascript\"></script> <script type=\"text/javascript\">\n",
       "var utag_data = {\"page\":{\"section\":\"portal\",\"language\":\"pt\"}};\n",
       "</script> <script type=\"text/javascript\"> (function(a,b,c,d){ a='//tags.tiqcdn.com/utag/idealista/pt-portal/prod/utag.js'; b=document;c='script';d=b.createElement(c);d.src=a;d.type='text/java'+c;d.async=true; a=b.getElementsByTagName(c)[0];a.parentNode.insertBefore(d,a); })();\n",
       "</script> <script async=\"true\" src=\"https://st1.idealista.pt/static/common/js/criteo/ld.js?20171123083742\" type=\"text/javascript\"></script> <script type=\"text/javascript\">\n",
       "window.criteo_q = window.criteo_q || [];\n",
       "window.criteo_q.push( { event: \"setAccount\", account: [13364, 19091] }, { event: \"setCustomerId\", id: \"\" }, { event: \"setSiteType\", type: \"d\" }, { event: \"viewItem\", item: \"28312244\" }\n",
       ");\n",
       "</script> </body> </html>"
      ]
     },
     "execution_count": 25,
     "metadata": {},
     "output_type": "execute_result"
    }
   ],
   "source": [
    "def obtain_link():\n",
    "\n",
    "    page = requests.get(\"https://www.idealista.pt/comprar-casas/lisboa/com-apartamentos/\")\n",
    "    soup = BeautifulSoup(page.content, 'html.parser')\n",
    "    \n",
    "    link = []\n",
    "\n",
    "    for item in soup.find_all(class_=\"item-info-container\"):\n",
    "\n",
    "        try:\n",
    "            link.append('https://www.idealista.pt'+item.find(class_=\"item-link\")['href'])\n",
    "        except:\n",
    "            link.append('-')\n",
    "            \n",
    "    return link\n",
    "\n",
    "def all_links():\n",
    "    links = obtain_link()\n",
    "    all_links = [BeautifulSoup(requests.get(link).content, 'html.parser') for link in links]\n",
    "    return [list(all_links[position].children)[8] for position in range(len(links))]\n",
    "\n",
    "l = all_links()\n",
    "l[0]"
   ]
  },
  {
   "cell_type": "code",
   "execution_count": null,
   "metadata": {},
   "outputs": [],
   "source": []
  },
  {
   "cell_type": "code",
   "execution_count": 15,
   "metadata": {},
   "outputs": [],
   "source": [
    "links = obtain_link()\n",
    "all_links = [BeautifulSoup(requests.get(link).content, 'html.parser') for link in links]"
   ]
  },
  {
   "cell_type": "code",
   "execution_count": 19,
   "metadata": {},
   "outputs": [],
   "source": [
    "links = obtain_link()"
   ]
  },
  {
   "cell_type": "code",
   "execution_count": 20,
   "metadata": {},
   "outputs": [
    {
     "data": {
      "text/plain": [
       "[]"
      ]
     },
     "execution_count": 20,
     "metadata": {},
     "output_type": "execute_result"
    }
   ],
   "source": [
    "links"
   ]
  },
  {
   "cell_type": "code",
   "execution_count": 23,
   "metadata": {},
   "outputs": [],
   "source": [
    "def obtain_link():\n",
    "\n",
    "    import requests\n",
    "    from bs4 import BeautifulSoup\n",
    "    \n",
    "    page = requests.get(\"https://www.idealista.pt/comprar-casas/lisboa/com-apartamentos/\")\n",
    "    soup = BeautifulSoup(page.content, 'html.parser')\n",
    "    \n",
    "    link = []\n",
    "\n",
    "    for item in soup.find_all(class_=\"item-info-container\"):\n",
    "\n",
    "        try:\n",
    "            link.append('https://www.idealista.pt'+item.find(class_=\"item-link\")['href'])\n",
    "        except:\n",
    "            link.append('-')\n",
    "            \n",
    "    return link"
   ]
  },
  {
   "cell_type": "code",
   "execution_count": 24,
   "metadata": {},
   "outputs": [
    {
     "data": {
      "text/plain": [
       "[]"
      ]
     },
     "execution_count": 24,
     "metadata": {},
     "output_type": "execute_result"
    }
   ],
   "source": [
    "obtain_link()"
   ]
  },
  {
   "cell_type": "code",
   "execution_count": null,
   "metadata": {},
   "outputs": [],
   "source": []
  }
 ],
 "metadata": {
  "kernelspec": {
   "display_name": "Python 3",
   "language": "python",
   "name": "python3"
  },
  "language_info": {
   "codemirror_mode": {
    "name": "ipython",
    "version": 3
   },
   "file_extension": ".py",
   "mimetype": "text/x-python",
   "name": "python",
   "nbconvert_exporter": "python",
   "pygments_lexer": "ipython3",
   "version": "3.6.0"
  }
 },
 "nbformat": 4,
 "nbformat_minor": 2
}
